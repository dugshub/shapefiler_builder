{
 "cells": [
  {
   "metadata": {},
   "cell_type": "markdown",
   "source": "",
   "id": "198166c56d17c196"
  },
  {
   "cell_type": "code",
   "id": "initial_id",
   "metadata": {
    "collapsed": true,
    "ExecuteTime": {
     "end_time": "2024-07-18T13:05:17.547540Z",
     "start_time": "2024-07-18T13:05:17.545777Z"
    }
   },
   "source": [
    "import shapefile\n",
    "from config import app, db, reporting_markets\n",
    "from models import Shapefile, ShapefileBuilder,featurecollection_schema"
   ],
   "outputs": [],
   "execution_count": 6
  },
  {
   "metadata": {},
   "cell_type": "markdown",
   "source": "",
   "id": "13330a2ede7ada61"
  },
  {
   "metadata": {
    "ExecuteTime": {
     "end_time": "2024-07-18T13:05:19.553542Z",
     "start_time": "2024-07-18T13:05:19.548620Z"
    }
   },
   "cell_type": "code",
   "source": [
    "reporting_market_ids = reporting_markets[0:3]\n",
    "reporting_market_ids"
   ],
   "id": "71cf73c1568e992",
   "outputs": [
    {
     "data": {
      "text/plain": [
       "[85940195, 85977539, 85931779]"
      ]
     },
     "execution_count": 7,
     "metadata": {},
     "output_type": "execute_result"
    }
   ],
   "execution_count": 7
  },
  {
   "metadata": {
    "ExecuteTime": {
     "end_time": "2024-07-18T13:05:21.111542Z",
     "start_time": "2024-07-18T13:05:20.836999Z"
    }
   },
   "cell_type": "code",
   "source": [
    "with app.app_context():\n",
    "    for market_id in reporting_market_ids:\n",
    "        db.session.add(ShapefileBuilder(market_id).createMaplayerObject())\n",
    "        db.session.commit()\n",
    "    "
   ],
   "id": "7e291a23622d8140",
   "outputs": [],
   "execution_count": 8
  },
  {
   "metadata": {
    "ExecuteTime": {
     "end_time": "2024-07-18T13:06:33.835872Z",
     "start_time": "2024-07-18T13:06:33.833193Z"
    }
   },
   "cell_type": "code",
   "source": [
    "with app.app_context():\n",
    "    markets = db.session.query(Shapefile)\n",
    "markets"
   ],
   "id": "5e2100e64fde023f",
   "outputs": [
    {
     "data": {
      "text/plain": [
       "<flask_sqlalchemy.query.Query at 0x12f0f35c0>"
      ]
     },
     "execution_count": 10,
     "metadata": {},
     "output_type": "execute_result"
    }
   ],
   "execution_count": 10
  },
  {
   "metadata": {
    "ExecuteTime": {
     "end_time": "2024-07-18T13:04:38.934721Z",
     "start_time": "2024-07-18T13:04:38.917954Z"
    }
   },
   "cell_type": "code",
   "source": [
    "with (app.app_context()):\n",
    "    db.drop_all()\n",
    "    db.create_all()\n",
    "    db.session.add(shapes[0])\n",
    "    db.session.commit()"
   ],
   "id": "b9cae2352110a5e",
   "outputs": [
    {
     "ename": "NameError",
     "evalue": "name 'shapes' is not defined",
     "output_type": "error",
     "traceback": [
      "\u001B[0;31m---------------------------------------------------------------------------\u001B[0m",
      "\u001B[0;31mNameError\u001B[0m                                 Traceback (most recent call last)",
      "Cell \u001B[0;32mIn[4], line 4\u001B[0m\n\u001B[1;32m      2\u001B[0m db\u001B[38;5;241m.\u001B[39mdrop_all()\n\u001B[1;32m      3\u001B[0m db\u001B[38;5;241m.\u001B[39mcreate_all()\n\u001B[0;32m----> 4\u001B[0m db\u001B[38;5;241m.\u001B[39msession\u001B[38;5;241m.\u001B[39madd(\u001B[43mshapes\u001B[49m[\u001B[38;5;241m0\u001B[39m])\n\u001B[1;32m      5\u001B[0m db\u001B[38;5;241m.\u001B[39msession\u001B[38;5;241m.\u001B[39mcommit()\n",
      "\u001B[0;31mNameError\u001B[0m: name 'shapes' is not defined"
     ]
    }
   ],
   "execution_count": 4
  },
  {
   "metadata": {
    "ExecuteTime": {
     "end_time": "2024-07-18T04:40:53.470439Z",
     "start_time": "2024-07-18T04:40:53.470381Z"
    }
   },
   "cell_type": "code",
   "source": "",
   "id": "d250c601524a3841",
   "outputs": [],
   "execution_count": null
  }
 ],
 "metadata": {
  "kernelspec": {
   "display_name": "Python 3",
   "language": "python",
   "name": "python3"
  },
  "language_info": {
   "codemirror_mode": {
    "name": "ipython",
    "version": 2
   },
   "file_extension": ".py",
   "mimetype": "text/x-python",
   "name": "python",
   "nbconvert_exporter": "python",
   "pygments_lexer": "ipython2",
   "version": "2.7.6"
  }
 },
 "nbformat": 4,
 "nbformat_minor": 5
}
