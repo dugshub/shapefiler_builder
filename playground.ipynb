{
 "cells": [
  {
   "metadata": {},
   "cell_type": "markdown",
   "source": "",
   "id": "a4fea0e1af1d2312"
  },
  {
   "cell_type": "code",
   "id": "initial_id",
   "metadata": {
    "collapsed": true,
    "ExecuteTime": {
     "end_time": "2024-07-17T20:09:43.946075Z",
     "start_time": "2024-07-17T20:09:43.372617Z"
    }
   },
   "source": [
    "import pandas as pd\n",
    "import yaml\n",
    "from models import Shapefile, features_schema"
   ],
   "outputs": [],
   "execution_count": 1
  },
  {
   "metadata": {
    "ExecuteTime": {
     "end_time": "2024-07-17T20:09:46.621687Z",
     "start_time": "2024-07-17T20:09:45.342594Z"
    }
   },
   "cell_type": "code",
   "source": [
    "wof_df = pd.read_csv(\"data/combined.csv\",index_col=\"id\")\n",
    "wof_df\n",
    "df = wof_df[['name','shape_type','locality','parent_id','is_superceded','cesessation','geo_shape','hierarchy','source_geom','alt_geom','path']]"
   ],
   "id": "9c2986908598faf",
   "outputs": [],
   "execution_count": 2
  },
  {
   "metadata": {
    "ExecuteTime": {
     "end_time": "2024-07-17T20:09:46.625572Z",
     "start_time": "2024-07-17T20:09:46.622665Z"
    }
   },
   "cell_type": "code",
   "source": [
    "with open(\"config/config.yaml\",\"r\") as f:\n",
    "    config = yaml.safe_load(f)\n",
    "\n"
   ],
   "id": "a3b8e6530f32cbf6",
   "outputs": [],
   "execution_count": 3
  },
  {
   "metadata": {
    "ExecuteTime": {
     "end_time": "2024-07-17T20:09:46.627876Z",
     "start_time": "2024-07-17T20:09:46.626219Z"
    }
   },
   "cell_type": "code",
   "source": [
    "ignored_geo_shapes = ['Point']\n",
    "accepted_shapes = ['neighbourhood']\n",
    "excluded_shapefiles = ['zetashapes', 'quattroshapes']\n",
    "\n"
   ],
   "id": "5a7079043eedf626",
   "outputs": [],
   "execution_count": 4
  },
  {
   "metadata": {
    "ExecuteTime": {
     "end_time": "2024-07-17T20:09:46.630705Z",
     "start_time": "2024-07-17T20:09:46.629123Z"
    }
   },
   "cell_type": "code",
   "source": [
    "markets = config['reporting_markets']\n",
    "reporting_markets = [market['id'] for market in markets]\n",
    "reporting_markets = [reporting_markets[0]]"
   ],
   "id": "3fd8762aa402c28d",
   "outputs": [],
   "execution_count": 5
  },
  {
   "metadata": {
    "ExecuteTime": {
     "end_time": "2024-07-17T20:09:46.833173Z",
     "start_time": "2024-07-17T20:09:46.794994Z"
    }
   },
   "cell_type": "code",
   "source": [
    "df2 = df[ df['locality'].isin(reporting_markets) & df['shape_type'].isin(accepted_shapes) & ~df['geo_shape'].isin(ignored_geo_shapes) & df['is_superceded'].isin(['[]']) & ~df['source_geom'].isin(excluded_shapefiles) ]\n",
    "#df2 = df2[df2['is_superceded']=='[]']\n",
    "#ids = df2.index.tolist()\n",
    "\n",
    "ids = df2['path'].to_dict()"
   ],
   "id": "da03e5f639342259",
   "outputs": [],
   "execution_count": 6
  },
  {
   "metadata": {
    "ExecuteTime": {
     "end_time": "2024-07-17T20:09:47.573983Z",
     "start_time": "2024-07-17T20:09:47.566336Z"
    }
   },
   "cell_type": "code",
   "source": "ids",
   "id": "4003d85aedf4567d",
   "outputs": [
    {
     "data": {
      "text/plain": [
       "{1024497019: '/Users/doug/Documents/GitHub/whosonfirst-data-admin-us/data/102/449/701/9/1024497019.geojson',\n",
       " 1024497017: '/Users/doug/Documents/GitHub/whosonfirst-data-admin-us/data/102/449/701/7/1024497017.geojson',\n",
       " 1024497011: '/Users/doug/Documents/GitHub/whosonfirst-data-admin-us/data/102/449/701/1/1024497011.geojson',\n",
       " 1024497013: '/Users/doug/Documents/GitHub/whosonfirst-data-admin-us/data/102/449/701/3/1024497013.geojson',\n",
       " 1024497015: '/Users/doug/Documents/GitHub/whosonfirst-data-admin-us/data/102/449/701/5/1024497015.geojson',\n",
       " 1024497067: '/Users/doug/Documents/GitHub/whosonfirst-data-admin-us/data/102/449/706/7/1024497067.geojson',\n",
       " 1024497087: '/Users/doug/Documents/GitHub/whosonfirst-data-admin-us/data/102/449/708/7/1024497087.geojson',\n",
       " 1024497085: '/Users/doug/Documents/GitHub/whosonfirst-data-admin-us/data/102/449/708/5/1024497085.geojson',\n",
       " 1024497091: '/Users/doug/Documents/GitHub/whosonfirst-data-admin-us/data/102/449/709/1/1024497091.geojson',\n",
       " 1024497095: '/Users/doug/Documents/GitHub/whosonfirst-data-admin-us/data/102/449/709/5/1024497095.geojson',\n",
       " 1024497079: '/Users/doug/Documents/GitHub/whosonfirst-data-admin-us/data/102/449/707/9/1024497079.geojson',\n",
       " 1024497077: '/Users/doug/Documents/GitHub/whosonfirst-data-admin-us/data/102/449/707/7/1024497077.geojson',\n",
       " 1024497071: '/Users/doug/Documents/GitHub/whosonfirst-data-admin-us/data/102/449/707/1/1024497071.geojson',\n",
       " 1024497075: '/Users/doug/Documents/GitHub/whosonfirst-data-admin-us/data/102/449/707/5/1024497075.geojson',\n",
       " 1024497007: '/Users/doug/Documents/GitHub/whosonfirst-data-admin-us/data/102/449/700/7/1024497007.geojson',\n",
       " 1024497001: '/Users/doug/Documents/GitHub/whosonfirst-data-admin-us/data/102/449/700/1/1024497001.geojson',\n",
       " 1024497003: '/Users/doug/Documents/GitHub/whosonfirst-data-admin-us/data/102/449/700/3/1024497003.geojson',\n",
       " 1024497005: '/Users/doug/Documents/GitHub/whosonfirst-data-admin-us/data/102/449/700/5/1024497005.geojson',\n",
       " 1024496887: '/Users/doug/Documents/GitHub/whosonfirst-data-admin-us/data/102/449/688/7/1024496887.geojson',\n",
       " 1024496881: '/Users/doug/Documents/GitHub/whosonfirst-data-admin-us/data/102/449/688/1/1024496881.geojson',\n",
       " 1024496885: '/Users/doug/Documents/GitHub/whosonfirst-data-admin-us/data/102/449/688/5/1024496885.geojson',\n",
       " 1024496899: '/Users/doug/Documents/GitHub/whosonfirst-data-admin-us/data/102/449/689/9/1024496899.geojson',\n",
       " 1024496897: '/Users/doug/Documents/GitHub/whosonfirst-data-admin-us/data/102/449/689/7/1024496897.geojson',\n",
       " 1024496891: '/Users/doug/Documents/GitHub/whosonfirst-data-admin-us/data/102/449/689/1/1024496891.geojson',\n",
       " 1024496893: '/Users/doug/Documents/GitHub/whosonfirst-data-admin-us/data/102/449/689/3/1024496893.geojson',\n",
       " 1024496895: '/Users/doug/Documents/GitHub/whosonfirst-data-admin-us/data/102/449/689/5/1024496895.geojson',\n",
       " 1024496879: '/Users/doug/Documents/GitHub/whosonfirst-data-admin-us/data/102/449/687/9/1024496879.geojson',\n",
       " 1024496873: '/Users/doug/Documents/GitHub/whosonfirst-data-admin-us/data/102/449/687/3/1024496873.geojson',\n",
       " 1024496875: '/Users/doug/Documents/GitHub/whosonfirst-data-admin-us/data/102/449/687/5/1024496875.geojson',\n",
       " 1024496949: '/Users/doug/Documents/GitHub/whosonfirst-data-admin-us/data/102/449/694/9/1024496949.geojson',\n",
       " 1024496947: '/Users/doug/Documents/GitHub/whosonfirst-data-admin-us/data/102/449/694/7/1024496947.geojson',\n",
       " 1024496945: '/Users/doug/Documents/GitHub/whosonfirst-data-admin-us/data/102/449/694/5/1024496945.geojson',\n",
       " 1024496939: '/Users/doug/Documents/GitHub/whosonfirst-data-admin-us/data/102/449/693/9/1024496939.geojson',\n",
       " 1024496933: '/Users/doug/Documents/GitHub/whosonfirst-data-admin-us/data/102/449/693/3/1024496933.geojson',\n",
       " 1024496935: '/Users/doug/Documents/GitHub/whosonfirst-data-admin-us/data/102/449/693/5/1024496935.geojson',\n",
       " 1024496929: '/Users/doug/Documents/GitHub/whosonfirst-data-admin-us/data/102/449/692/9/1024496929.geojson',\n",
       " 1024496927: '/Users/doug/Documents/GitHub/whosonfirst-data-admin-us/data/102/449/692/7/1024496927.geojson',\n",
       " 1024496921: '/Users/doug/Documents/GitHub/whosonfirst-data-admin-us/data/102/449/692/1/1024496921.geojson',\n",
       " 1024496923: '/Users/doug/Documents/GitHub/whosonfirst-data-admin-us/data/102/449/692/3/1024496923.geojson',\n",
       " 1024496925: '/Users/doug/Documents/GitHub/whosonfirst-data-admin-us/data/102/449/692/5/1024496925.geojson',\n",
       " 1024496959: '/Users/doug/Documents/GitHub/whosonfirst-data-admin-us/data/102/449/695/9/1024496959.geojson',\n",
       " 1024496957: '/Users/doug/Documents/GitHub/whosonfirst-data-admin-us/data/102/449/695/7/1024496957.geojson',\n",
       " 1024496951: '/Users/doug/Documents/GitHub/whosonfirst-data-admin-us/data/102/449/695/1/1024496951.geojson',\n",
       " 1024496953: '/Users/doug/Documents/GitHub/whosonfirst-data-admin-us/data/102/449/695/3/1024496953.geojson',\n",
       " 1024497023: '/Users/doug/Documents/GitHub/whosonfirst-data-admin-us/data/102/449/702/3/1024497023.geojson',\n",
       " 1024497039: '/Users/doug/Documents/GitHub/whosonfirst-data-admin-us/data/102/449/703/9/1024497039.geojson',\n",
       " 1024497031: '/Users/doug/Documents/GitHub/whosonfirst-data-admin-us/data/102/449/703/1/1024497031.geojson',\n",
       " 1024497033: '/Users/doug/Documents/GitHub/whosonfirst-data-admin-us/data/102/449/703/3/1024497033.geojson',\n",
       " 1024497035: '/Users/doug/Documents/GitHub/whosonfirst-data-admin-us/data/102/449/703/5/1024497035.geojson',\n",
       " 1024496999: '/Users/doug/Documents/GitHub/whosonfirst-data-admin-us/data/102/449/699/9/1024496999.geojson',\n",
       " 1024496997: '/Users/doug/Documents/GitHub/whosonfirst-data-admin-us/data/102/449/699/7/1024496997.geojson',\n",
       " 1024496993: '/Users/doug/Documents/GitHub/whosonfirst-data-admin-us/data/102/449/699/3/1024496993.geojson',\n",
       " 1024496995: '/Users/doug/Documents/GitHub/whosonfirst-data-admin-us/data/102/449/699/5/1024496995.geojson',\n",
       " 1024496909: '/Users/doug/Documents/GitHub/whosonfirst-data-admin-us/data/102/449/690/9/1024496909.geojson',\n",
       " 1024496903: '/Users/doug/Documents/GitHub/whosonfirst-data-admin-us/data/102/449/690/3/1024496903.geojson',\n",
       " 1024496979: '/Users/doug/Documents/GitHub/whosonfirst-data-admin-us/data/102/449/697/9/1024496979.geojson',\n",
       " 1024496977: '/Users/doug/Documents/GitHub/whosonfirst-data-admin-us/data/102/449/697/7/1024496977.geojson',\n",
       " 1024496971: '/Users/doug/Documents/GitHub/whosonfirst-data-admin-us/data/102/449/697/1/1024496971.geojson',\n",
       " 1024496975: '/Users/doug/Documents/GitHub/whosonfirst-data-admin-us/data/102/449/697/5/1024496975.geojson',\n",
       " 1024496969: '/Users/doug/Documents/GitHub/whosonfirst-data-admin-us/data/102/449/696/9/1024496969.geojson',\n",
       " 1024496967: '/Users/doug/Documents/GitHub/whosonfirst-data-admin-us/data/102/449/696/7/1024496967.geojson',\n",
       " 1024496961: '/Users/doug/Documents/GitHub/whosonfirst-data-admin-us/data/102/449/696/1/1024496961.geojson',\n",
       " 1024496963: '/Users/doug/Documents/GitHub/whosonfirst-data-admin-us/data/102/449/696/3/1024496963.geojson',\n",
       " 1024496965: '/Users/doug/Documents/GitHub/whosonfirst-data-admin-us/data/102/449/696/5/1024496965.geojson',\n",
       " 1024496917: '/Users/doug/Documents/GitHub/whosonfirst-data-admin-us/data/102/449/691/7/1024496917.geojson',\n",
       " 1024496911: '/Users/doug/Documents/GitHub/whosonfirst-data-admin-us/data/102/449/691/1/1024496911.geojson',\n",
       " 1024496913: '/Users/doug/Documents/GitHub/whosonfirst-data-admin-us/data/102/449/691/3/1024496913.geojson',\n",
       " 1024496915: '/Users/doug/Documents/GitHub/whosonfirst-data-admin-us/data/102/449/691/5/1024496915.geojson',\n",
       " 1024496989: '/Users/doug/Documents/GitHub/whosonfirst-data-admin-us/data/102/449/698/9/1024496989.geojson',\n",
       " 1024496987: '/Users/doug/Documents/GitHub/whosonfirst-data-admin-us/data/102/449/698/7/1024496987.geojson',\n",
       " 1024496981: '/Users/doug/Documents/GitHub/whosonfirst-data-admin-us/data/102/449/698/1/1024496981.geojson',\n",
       " 1024496983: '/Users/doug/Documents/GitHub/whosonfirst-data-admin-us/data/102/449/698/3/1024496983.geojson',\n",
       " 1024496985: '/Users/doug/Documents/GitHub/whosonfirst-data-admin-us/data/102/449/698/5/1024496985.geojson',\n",
       " 1024497101: '/Users/doug/Documents/GitHub/whosonfirst-data-admin-us/data/102/449/710/1/1024497101.geojson',\n",
       " 1024497103: '/Users/doug/Documents/GitHub/whosonfirst-data-admin-us/data/102/449/710/3/1024497103.geojson',\n",
       " 1024497105: '/Users/doug/Documents/GitHub/whosonfirst-data-admin-us/data/102/449/710/5/1024497105.geojson',\n",
       " 1024608977: '/Users/doug/Documents/GitHub/whosonfirst-data-admin-us/data/102/460/897/7/1024608977.geojson',\n",
       " 1024608975: '/Users/doug/Documents/GitHub/whosonfirst-data-admin-us/data/102/460/897/5/1024608975.geojson',\n",
       " 85890761: '/Users/doug/Documents/GitHub/whosonfirst-data-admin-us/data/858/907/61//85890761.geojson',\n",
       " 85890759: '/Users/doug/Documents/GitHub/whosonfirst-data-admin-us/data/858/907/59//85890759.geojson',\n",
       " 85890757: '/Users/doug/Documents/GitHub/whosonfirst-data-admin-us/data/858/907/57//85890757.geojson',\n",
       " 85890767: '/Users/doug/Documents/GitHub/whosonfirst-data-admin-us/data/858/907/67//85890767.geojson',\n",
       " 85890755: '/Users/doug/Documents/GitHub/whosonfirst-data-admin-us/data/858/907/55//85890755.geojson',\n",
       " 85890749: '/Users/doug/Documents/GitHub/whosonfirst-data-admin-us/data/858/907/49//85890749.geojson',\n",
       " 85810539: '/Users/doug/Documents/GitHub/whosonfirst-data-admin-us/data/858/105/39//85810539.geojson',\n",
       " 85816771: '/Users/doug/Documents/GitHub/whosonfirst-data-admin-us/data/858/167/71//85816771.geojson',\n",
       " 85836443: '/Users/doug/Documents/GitHub/whosonfirst-data-admin-us/data/858/364/43//85836443.geojson',\n",
       " 85867527: '/Users/doug/Documents/GitHub/whosonfirst-data-admin-us/data/858/675/27//85867527.geojson',\n",
       " 85867511: '/Users/doug/Documents/GitHub/whosonfirst-data-admin-us/data/858/675/11//85867511.geojson',\n",
       " 85867521: '/Users/doug/Documents/GitHub/whosonfirst-data-admin-us/data/858/675/21//85867521.geojson',\n",
       " 85867581: '/Users/doug/Documents/GitHub/whosonfirst-data-admin-us/data/858/675/81//85867581.geojson',\n",
       " 85867531: '/Users/doug/Documents/GitHub/whosonfirst-data-admin-us/data/858/675/31//85867531.geojson',\n",
       " 85867501: '/Users/doug/Documents/GitHub/whosonfirst-data-admin-us/data/858/675/01//85867501.geojson',\n",
       " 85867523: '/Users/doug/Documents/GitHub/whosonfirst-data-admin-us/data/858/675/23//85867523.geojson',\n",
       " 85847191: '/Users/doug/Documents/GitHub/whosonfirst-data-admin-us/data/858/471/91//85847191.geojson',\n",
       " 85824547: '/Users/doug/Documents/GitHub/whosonfirst-data-admin-us/data/858/245/47//85824547.geojson',\n",
       " 85844893: '/Users/doug/Documents/GitHub/whosonfirst-data-admin-us/data/858/448/93//85844893.geojson',\n",
       " 85867495: '/Users/doug/Documents/GitHub/whosonfirst-data-admin-us/data/858/674/95//85867495.geojson',\n",
       " 85882181: '/Users/doug/Documents/GitHub/whosonfirst-data-admin-us/data/858/821/81//85882181.geojson',\n",
       " 85882191: '/Users/doug/Documents/GitHub/whosonfirst-data-admin-us/data/858/821/91//85882191.geojson',\n",
       " 85882139: '/Users/doug/Documents/GitHub/whosonfirst-data-admin-us/data/858/821/39//85882139.geojson',\n",
       " 85808561: '/Users/doug/Documents/GitHub/whosonfirst-data-admin-us/data/858/085/61//85808561.geojson',\n",
       " 85804073: '/Users/doug/Documents/GitHub/whosonfirst-data-admin-us/data/858/040/73//85804073.geojson',\n",
       " 85826681: '/Users/doug/Documents/GitHub/whosonfirst-data-admin-us/data/858/266/81//85826681.geojson',\n",
       " 85866935: '/Users/doug/Documents/GitHub/whosonfirst-data-admin-us/data/858/669/35//85866935.geojson',\n",
       " 85866927: '/Users/doug/Documents/GitHub/whosonfirst-data-admin-us/data/858/669/27//85866927.geojson',\n",
       " 85866929: '/Users/doug/Documents/GitHub/whosonfirst-data-admin-us/data/858/669/29//85866929.geojson',\n",
       " 85866931: '/Users/doug/Documents/GitHub/whosonfirst-data-admin-us/data/858/669/31//85866931.geojson',\n",
       " 85866937: '/Users/doug/Documents/GitHub/whosonfirst-data-admin-us/data/858/669/37//85866937.geojson',\n",
       " 85866925: '/Users/doug/Documents/GitHub/whosonfirst-data-admin-us/data/858/669/25//85866925.geojson',\n",
       " 85869417: '/Users/doug/Documents/GitHub/whosonfirst-data-admin-us/data/858/694/17//85869417.geojson',\n",
       " 85869419: '/Users/doug/Documents/GitHub/whosonfirst-data-admin-us/data/858/694/19//85869419.geojson',\n",
       " 85866783: '/Users/doug/Documents/GitHub/whosonfirst-data-admin-us/data/858/667/83//85866783.geojson',\n",
       " 85869305: '/Users/doug/Documents/GitHub/whosonfirst-data-admin-us/data/858/693/05//85869305.geojson',\n",
       " 85829473: '/Users/doug/Documents/GitHub/whosonfirst-data-admin-us/data/858/294/73//85829473.geojson',\n",
       " 85869277: '/Users/doug/Documents/GitHub/whosonfirst-data-admin-us/data/858/692/77//85869277.geojson',\n",
       " 85869271: '/Users/doug/Documents/GitHub/whosonfirst-data-admin-us/data/858/692/71//85869271.geojson',\n",
       " 85869249: '/Users/doug/Documents/GitHub/whosonfirst-data-admin-us/data/858/692/49//85869249.geojson',\n",
       " 85869559: '/Users/doug/Documents/GitHub/whosonfirst-data-admin-us/data/858/695/59//85869559.geojson',\n",
       " 85866807: '/Users/doug/Documents/GitHub/whosonfirst-data-admin-us/data/858/668/07//85866807.geojson',\n",
       " 85865761: '/Users/doug/Documents/GitHub/whosonfirst-data-admin-us/data/858/657/61//85865761.geojson',\n",
       " 85865759: '/Users/doug/Documents/GitHub/whosonfirst-data-admin-us/data/858/657/59//85865759.geojson',\n",
       " 85865735: '/Users/doug/Documents/GitHub/whosonfirst-data-admin-us/data/858/657/35//85865735.geojson',\n",
       " 85865727: '/Users/doug/Documents/GitHub/whosonfirst-data-admin-us/data/858/657/27//85865727.geojson',\n",
       " 85865729: '/Users/doug/Documents/GitHub/whosonfirst-data-admin-us/data/858/657/29//85865729.geojson',\n",
       " 85865745: '/Users/doug/Documents/GitHub/whosonfirst-data-admin-us/data/858/657/45//85865745.geojson',\n",
       " 85865719: '/Users/doug/Documents/GitHub/whosonfirst-data-admin-us/data/858/657/19//85865719.geojson',\n",
       " 85865721: '/Users/doug/Documents/GitHub/whosonfirst-data-admin-us/data/858/657/21//85865721.geojson',\n",
       " 85865775: '/Users/doug/Documents/GitHub/whosonfirst-data-admin-us/data/858/657/75//85865775.geojson',\n",
       " 85865743: '/Users/doug/Documents/GitHub/whosonfirst-data-admin-us/data/858/657/43//85865743.geojson',\n",
       " 85865737: '/Users/doug/Documents/GitHub/whosonfirst-data-admin-us/data/858/657/37//85865737.geojson',\n",
       " 85865739: '/Users/doug/Documents/GitHub/whosonfirst-data-admin-us/data/858/657/39//85865739.geojson',\n",
       " 85865755: '/Users/doug/Documents/GitHub/whosonfirst-data-admin-us/data/858/657/55//85865755.geojson',\n",
       " 85865763: '/Users/doug/Documents/GitHub/whosonfirst-data-admin-us/data/858/657/63//85865763.geojson',\n",
       " 85865779: '/Users/doug/Documents/GitHub/whosonfirst-data-admin-us/data/858/657/79//85865779.geojson',\n",
       " 85865741: '/Users/doug/Documents/GitHub/whosonfirst-data-admin-us/data/858/657/41//85865741.geojson',\n",
       " 85865723: '/Users/doug/Documents/GitHub/whosonfirst-data-admin-us/data/858/657/23//85865723.geojson',\n",
       " 85865771: '/Users/doug/Documents/GitHub/whosonfirst-data-admin-us/data/858/657/71//85865771.geojson',\n",
       " 85818139: '/Users/doug/Documents/GitHub/whosonfirst-data-admin-us/data/858/181/39//85818139.geojson',\n",
       " 85831409: '/Users/doug/Documents/GitHub/whosonfirst-data-admin-us/data/858/314/09//85831409.geojson',\n",
       " 85850085: '/Users/doug/Documents/GitHub/whosonfirst-data-admin-us/data/858/500/85//85850085.geojson',\n",
       " 85815517: '/Users/doug/Documents/GitHub/whosonfirst-data-admin-us/data/858/155/17//85815517.geojson',\n",
       " 85856203: '/Users/doug/Documents/GitHub/whosonfirst-data-admin-us/data/858/562/03//85856203.geojson',\n",
       " 85810819: '/Users/doug/Documents/GitHub/whosonfirst-data-admin-us/data/858/108/19//85810819.geojson',\n",
       " 85867657: '/Users/doug/Documents/GitHub/whosonfirst-data-admin-us/data/858/676/57//85867657.geojson',\n",
       " 85867635: '/Users/doug/Documents/GitHub/whosonfirst-data-admin-us/data/858/676/35//85867635.geojson',\n",
       " 85867629: '/Users/doug/Documents/GitHub/whosonfirst-data-admin-us/data/858/676/29//85867629.geojson',\n",
       " 85867643: '/Users/doug/Documents/GitHub/whosonfirst-data-admin-us/data/858/676/43//85867643.geojson',\n",
       " 85867653: '/Users/doug/Documents/GitHub/whosonfirst-data-admin-us/data/858/676/53//85867653.geojson',\n",
       " 85867637: '/Users/doug/Documents/GitHub/whosonfirst-data-admin-us/data/858/676/37//85867637.geojson',\n",
       " 85867615: '/Users/doug/Documents/GitHub/whosonfirst-data-admin-us/data/858/676/15//85867615.geojson',\n",
       " 85867805: '/Users/doug/Documents/GitHub/whosonfirst-data-admin-us/data/858/678/05//85867805.geojson',\n",
       " 85867807: '/Users/doug/Documents/GitHub/whosonfirst-data-admin-us/data/858/678/07//85867807.geojson',\n",
       " 85867795: '/Users/doug/Documents/GitHub/whosonfirst-data-admin-us/data/858/677/95//85867795.geojson',\n",
       " 85867703: '/Users/doug/Documents/GitHub/whosonfirst-data-admin-us/data/858/677/03//85867703.geojson',\n",
       " 85867775: '/Users/doug/Documents/GitHub/whosonfirst-data-admin-us/data/858/677/75//85867775.geojson',\n",
       " 85867797: '/Users/doug/Documents/GitHub/whosonfirst-data-admin-us/data/858/677/97//85867797.geojson',\n",
       " 85867715: '/Users/doug/Documents/GitHub/whosonfirst-data-admin-us/data/858/677/15//85867715.geojson',\n",
       " 85867771: '/Users/doug/Documents/GitHub/whosonfirst-data-admin-us/data/858/677/71//85867771.geojson',\n",
       " 85867725: '/Users/doug/Documents/GitHub/whosonfirst-data-admin-us/data/858/677/25//85867725.geojson',\n",
       " 85846003: '/Users/doug/Documents/GitHub/whosonfirst-data-admin-us/data/858/460/03//85846003.geojson',\n",
       " 85869095: '/Users/doug/Documents/GitHub/whosonfirst-data-admin-us/data/858/690/95//85869095.geojson',\n",
       " 85869739: '/Users/doug/Documents/GitHub/whosonfirst-data-admin-us/data/858/697/39//85869739.geojson',\n",
       " 85869643: '/Users/doug/Documents/GitHub/whosonfirst-data-admin-us/data/858/696/43//85869643.geojson',\n",
       " 85869147: '/Users/doug/Documents/GitHub/whosonfirst-data-admin-us/data/858/691/47//85869147.geojson',\n",
       " 85869113: '/Users/doug/Documents/GitHub/whosonfirst-data-admin-us/data/858/691/13//85869113.geojson',\n",
       " 85849559: '/Users/doug/Documents/GitHub/whosonfirst-data-admin-us/data/858/495/59//85849559.geojson',\n",
       " 85849597: '/Users/doug/Documents/GitHub/whosonfirst-data-admin-us/data/858/495/97//85849597.geojson',\n",
       " 85843259: '/Users/doug/Documents/GitHub/whosonfirst-data-admin-us/data/858/432/59//85843259.geojson',\n",
       " 85811257: '/Users/doug/Documents/GitHub/whosonfirst-data-admin-us/data/858/112/57//85811257.geojson',\n",
       " 1108827601: '/Users/doug/Documents/GitHub/whosonfirst-data-admin-us/data/110/882/760/1/1108827601.geojson',\n",
       " 420518901: '/Users/doug/Documents/GitHub/whosonfirst-data-admin-us/data/420/518/901//420518901.geojson',\n",
       " 420518821: '/Users/doug/Documents/GitHub/whosonfirst-data-admin-us/data/420/518/821//420518821.geojson',\n",
       " 420518843: '/Users/doug/Documents/GitHub/whosonfirst-data-admin-us/data/420/518/843//420518843.geojson',\n",
       " 420518861: '/Users/doug/Documents/GitHub/whosonfirst-data-admin-us/data/420/518/861//420518861.geojson',\n",
       " 420518867: '/Users/doug/Documents/GitHub/whosonfirst-data-admin-us/data/420/518/867//420518867.geojson',\n",
       " 420518805: '/Users/doug/Documents/GitHub/whosonfirst-data-admin-us/data/420/518/805//420518805.geojson',\n",
       " 420518915: '/Users/doug/Documents/GitHub/whosonfirst-data-admin-us/data/420/518/915//420518915.geojson',\n",
       " 420518749: '/Users/doug/Documents/GitHub/whosonfirst-data-admin-us/data/420/518/749//420518749.geojson',\n",
       " 420518923: '/Users/doug/Documents/GitHub/whosonfirst-data-admin-us/data/420/518/923//420518923.geojson',\n",
       " 420518777: '/Users/doug/Documents/GitHub/whosonfirst-data-admin-us/data/420/518/777//420518777.geojson',\n",
       " 420518913: '/Users/doug/Documents/GitHub/whosonfirst-data-admin-us/data/420/518/913//420518913.geojson',\n",
       " 420518741: '/Users/doug/Documents/GitHub/whosonfirst-data-admin-us/data/420/518/741//420518741.geojson',\n",
       " 420518905: '/Users/doug/Documents/GitHub/whosonfirst-data-admin-us/data/420/518/905//420518905.geojson',\n",
       " 420518823: '/Users/doug/Documents/GitHub/whosonfirst-data-admin-us/data/420/518/823//420518823.geojson',\n",
       " 420518807: '/Users/doug/Documents/GitHub/whosonfirst-data-admin-us/data/420/518/807//420518807.geojson',\n",
       " 420518865: '/Users/doug/Documents/GitHub/whosonfirst-data-admin-us/data/420/518/865//420518865.geojson',\n",
       " 420518891: '/Users/doug/Documents/GitHub/whosonfirst-data-admin-us/data/420/518/891//420518891.geojson',\n",
       " 420518839: '/Users/doug/Documents/GitHub/whosonfirst-data-admin-us/data/420/518/839//420518839.geojson',\n",
       " 420518855: '/Users/doug/Documents/GitHub/whosonfirst-data-admin-us/data/420/518/855//420518855.geojson',\n",
       " 420518899: '/Users/doug/Documents/GitHub/whosonfirst-data-admin-us/data/420/518/899//420518899.geojson',\n",
       " 420518863: '/Users/doug/Documents/GitHub/whosonfirst-data-admin-us/data/420/518/863//420518863.geojson',\n",
       " 420518911: '/Users/doug/Documents/GitHub/whosonfirst-data-admin-us/data/420/518/911//420518911.geojson',\n",
       " 420518929: '/Users/doug/Documents/GitHub/whosonfirst-data-admin-us/data/420/518/929//420518929.geojson',\n",
       " 420518927: '/Users/doug/Documents/GitHub/whosonfirst-data-admin-us/data/420/518/927//420518927.geojson',\n",
       " 420783569: '/Users/doug/Documents/GitHub/whosonfirst-data-admin-us/data/420/783/569//420783569.geojson',\n",
       " 420783593: '/Users/doug/Documents/GitHub/whosonfirst-data-admin-us/data/420/783/593//420783593.geojson',\n",
       " 420783567: '/Users/doug/Documents/GitHub/whosonfirst-data-admin-us/data/420/783/567//420783567.geojson',\n",
       " 420783533: '/Users/doug/Documents/GitHub/whosonfirst-data-admin-us/data/420/783/533//420783533.geojson',\n",
       " 420783505: '/Users/doug/Documents/GitHub/whosonfirst-data-admin-us/data/420/783/505//420783505.geojson',\n",
       " 420783559: '/Users/doug/Documents/GitHub/whosonfirst-data-admin-us/data/420/783/559//420783559.geojson',\n",
       " 420783595: '/Users/doug/Documents/GitHub/whosonfirst-data-admin-us/data/420/783/595//420783595.geojson',\n",
       " 420783503: '/Users/doug/Documents/GitHub/whosonfirst-data-admin-us/data/420/783/503//420783503.geojson',\n",
       " 420783535: '/Users/doug/Documents/GitHub/whosonfirst-data-admin-us/data/420/783/535//420783535.geojson',\n",
       " 420783617: '/Users/doug/Documents/GitHub/whosonfirst-data-admin-us/data/420/783/617//420783617.geojson',\n",
       " 420783621: '/Users/doug/Documents/GitHub/whosonfirst-data-admin-us/data/420/783/621//420783621.geojson',\n",
       " 420783619: '/Users/doug/Documents/GitHub/whosonfirst-data-admin-us/data/420/783/619//420783619.geojson',\n",
       " 420783483: '/Users/doug/Documents/GitHub/whosonfirst-data-admin-us/data/420/783/483//420783483.geojson',\n",
       " 420783627: '/Users/doug/Documents/GitHub/whosonfirst-data-admin-us/data/420/783/627//420783627.geojson',\n",
       " 420783629: '/Users/doug/Documents/GitHub/whosonfirst-data-admin-us/data/420/783/629//420783629.geojson',\n",
       " 420783611: '/Users/doug/Documents/GitHub/whosonfirst-data-admin-us/data/420/783/611//420783611.geojson',\n",
       " 420783605: '/Users/doug/Documents/GitHub/whosonfirst-data-admin-us/data/420/783/605//420783605.geojson',\n",
       " 420783497: '/Users/doug/Documents/GitHub/whosonfirst-data-admin-us/data/420/783/497//420783497.geojson',\n",
       " 420783603: '/Users/doug/Documents/GitHub/whosonfirst-data-admin-us/data/420/783/603//420783603.geojson',\n",
       " 420783635: '/Users/doug/Documents/GitHub/whosonfirst-data-admin-us/data/420/783/635//420783635.geojson',\n",
       " 420783491: '/Users/doug/Documents/GitHub/whosonfirst-data-admin-us/data/420/783/491//420783491.geojson',\n",
       " 420783517: '/Users/doug/Documents/GitHub/whosonfirst-data-admin-us/data/420/783/517//420783517.geojson',\n",
       " 420783581: '/Users/doug/Documents/GitHub/whosonfirst-data-admin-us/data/420/783/581//420783581.geojson',\n",
       " 420783575: '/Users/doug/Documents/GitHub/whosonfirst-data-admin-us/data/420/783/575//420783575.geojson',\n",
       " 420783511: '/Users/doug/Documents/GitHub/whosonfirst-data-admin-us/data/420/783/511//420783511.geojson',\n",
       " 420783545: '/Users/doug/Documents/GitHub/whosonfirst-data-admin-us/data/420/783/545//420783545.geojson',\n",
       " 420783589: '/Users/doug/Documents/GitHub/whosonfirst-data-admin-us/data/420/783/589//420783589.geojson',\n",
       " 420783573: '/Users/doug/Documents/GitHub/whosonfirst-data-admin-us/data/420/783/573//420783573.geojson',\n",
       " 420783537: '/Users/doug/Documents/GitHub/whosonfirst-data-admin-us/data/420/783/537//420783537.geojson',\n",
       " 420783539: '/Users/doug/Documents/GitHub/whosonfirst-data-admin-us/data/420/783/539//420783539.geojson',\n",
       " 420783555: '/Users/doug/Documents/GitHub/whosonfirst-data-admin-us/data/420/783/555//420783555.geojson',\n",
       " 420783563: '/Users/doug/Documents/GitHub/whosonfirst-data-admin-us/data/420/783/563//420783563.geojson',\n",
       " 420783565: '/Users/doug/Documents/GitHub/whosonfirst-data-admin-us/data/420/783/565//420783565.geojson',\n",
       " 420783553: '/Users/doug/Documents/GitHub/whosonfirst-data-admin-us/data/420/783/553//420783553.geojson',\n",
       " 420783613: '/Users/doug/Documents/GitHub/whosonfirst-data-admin-us/data/420/783/613//420783613.geojson',\n",
       " 420783625: '/Users/doug/Documents/GitHub/whosonfirst-data-admin-us/data/420/783/625//420783625.geojson',\n",
       " 420783623: '/Users/doug/Documents/GitHub/whosonfirst-data-admin-us/data/420/783/623//420783623.geojson',\n",
       " 420783487: '/Users/doug/Documents/GitHub/whosonfirst-data-admin-us/data/420/783/487//420783487.geojson',\n",
       " 420783493: '/Users/doug/Documents/GitHub/whosonfirst-data-admin-us/data/420/783/493//420783493.geojson',\n",
       " 420783601: '/Users/doug/Documents/GitHub/whosonfirst-data-admin-us/data/420/783/601//420783601.geojson',\n",
       " 420783607: '/Users/doug/Documents/GitHub/whosonfirst-data-admin-us/data/420/783/607//420783607.geojson',\n",
       " 420783631: '/Users/doug/Documents/GitHub/whosonfirst-data-admin-us/data/420/783/631//420783631.geojson',\n",
       " 420783609: '/Users/doug/Documents/GitHub/whosonfirst-data-admin-us/data/420/783/609//420783609.geojson',\n",
       " 420783549: '/Users/doug/Documents/GitHub/whosonfirst-data-admin-us/data/420/783/549//420783549.geojson',\n",
       " 420783571: '/Users/doug/Documents/GitHub/whosonfirst-data-admin-us/data/420/783/571//420783571.geojson',\n",
       " 420783513: '/Users/doug/Documents/GitHub/whosonfirst-data-admin-us/data/420/783/513//420783513.geojson',\n",
       " 420783541: '/Users/doug/Documents/GitHub/whosonfirst-data-admin-us/data/420/783/541//420783541.geojson',\n",
       " 420783577: '/Users/doug/Documents/GitHub/whosonfirst-data-admin-us/data/420/783/577//420783577.geojson',\n",
       " 420783583: '/Users/doug/Documents/GitHub/whosonfirst-data-admin-us/data/420/783/583//420783583.geojson',\n",
       " 420783523: '/Users/doug/Documents/GitHub/whosonfirst-data-admin-us/data/420/783/523//420783523.geojson',\n",
       " 420783515: '/Users/doug/Documents/GitHub/whosonfirst-data-admin-us/data/420/783/515//420783515.geojson'}"
      ]
     },
     "execution_count": 7,
     "metadata": {},
     "output_type": "execute_result"
    }
   ],
   "execution_count": 7
  },
  {
   "metadata": {
    "ExecuteTime": {
     "end_time": "2024-07-17T20:09:49.868494Z",
     "start_time": "2024-07-17T20:09:49.427222Z"
    }
   },
   "cell_type": "code",
   "source": [
    "\n",
    "\n",
    "\n",
    "neighbourhoods = [Shapefile(key,val).createMaplayerObject() for key,val in ids.items()]\n",
    "neighbourhood = neighbourhoods[0]\n",
    "\n",
    "    "
   ],
   "id": "c99eb4da35927d79",
   "outputs": [],
   "execution_count": 8
  },
  {
   "metadata": {
    "ExecuteTime": {
     "end_time": "2024-07-17T20:12:48.254897Z",
     "start_time": "2024-07-17T20:12:48.253024Z"
    }
   },
   "cell_type": "code",
   "source": [
    "neighbourhood\n",
    "hoods = [neighbourhoods[0],neighbourhoods[1],neighbourhoods[2],neighbourhoods[3],neighbourhoods[4],neighbourhoods[5]]"
   ],
   "id": "a5f35c8db213d343",
   "outputs": [],
   "execution_count": 17
  },
  {
   "metadata": {
    "ExecuteTime": {
     "end_time": "2024-07-17T20:14:44.162546Z",
     "start_time": "2024-07-17T20:14:44.153173Z"
    }
   },
   "cell_type": "code",
   "source": "features_schema.dumps(hoods)",
   "id": "56447a4207ad9b50",
   "outputs": [
    {
     "data": {
      "text/plain": [
       "'[{\"type\": \"Feature\", \"geometry\": {\"type\": \"Polygon\", \"coordinates\": [[[-87.691009, 41.692283], [-87.69099, 41.691687], [-87.690943, 41.691688], [-87.690618, 41.691691], [-87.69038, 41.691693], [-87.69038, 41.691599], [-87.690377, 41.691599], [-87.690373, 41.691471], [-87.690368, 41.691334], [-87.690366, 41.69128], [-87.690363, 41.691197], [-87.690362, 41.691142], [-87.690359, 41.69106], [-87.690358, 41.691026], [-87.690354, 41.690923], [-87.690349, 41.690786], [-87.690345, 41.690648], [-87.69034, 41.690511], [-87.690335, 41.690374], [-87.690331, 41.690237], [-87.690326, 41.6901], [-87.690321, 41.689963], [-87.690351, 41.689962], [-87.690347, 41.689872], [-87.690344, 41.689781], [-87.690342, 41.689718], [-87.69034, 41.689649], [-87.690338, 41.68958], [-87.690335, 41.689512], [-87.690333, 41.689443], [-87.690331, 41.689375], [-87.690328, 41.689306], [-87.690326, 41.689237], [-87.690324, 41.689169], [-87.690321, 41.6891], [-87.690319, 41.689032], [-87.690316, 41.688963], [-87.690314, 41.688894], [-87.690312, 41.688826], [-87.69031, 41.688757], [-87.690307, 41.688689], [-87.690305, 41.68862], [-87.690303, 41.688552], [-87.6903, 41.688483], [-87.690298, 41.688414], [-87.690296, 41.688346], [-87.690293, 41.688277], [-87.690291, 41.688209], [-87.690289, 41.688145], [-87.690286, 41.688054], [-87.690256, 41.688055], [-87.690256, 41.688054], [-87.690253, 41.687964], [-87.690249, 41.68784], [-87.690249, 41.687836], [-87.690244, 41.687698], [-87.690241, 41.687595], [-87.69024, 41.687561], [-87.690237, 41.687492], [-87.690235, 41.687423], [-87.690234, 41.687388], [-87.69023, 41.687286], [-87.690225, 41.687148], [-87.690222, 41.687045], [-87.690221, 41.687011], [-87.690218, 41.686942], [-87.690216, 41.686873], [-87.690215, 41.686839], [-87.690211, 41.686736], [-87.690208, 41.68664], [-87.690207, 41.686598], [-87.690202, 41.686461], [-87.690198, 41.686355], [-87.690197, 41.686323], [-87.690195, 41.68625], [-87.690194, 41.686233], [-87.690191, 41.686144], [-87.690191, 41.686142], [-87.690188, 41.686037], [-87.690184, 41.685928], [-87.690182, 41.685872], [-87.690153, 41.685873], [-87.690151, 41.685818], [-87.690147, 41.685708], [-87.690143, 41.685598], [-87.690173, 41.685598], [-87.690168, 41.68546], [-87.690163, 41.685323], [-87.690159, 41.685186], [-87.690154, 41.685048], [-87.690149, 41.684911], [-87.690144, 41.684774], [-87.690115, 41.684774], [-87.690106, 41.684504], [-87.690096, 41.684413], [-87.690528, 41.684407], [-87.690837, 41.684403], [-87.690993, 41.6844], [-87.691392, 41.684395], [-87.69184, 41.684388], [-87.692323, 41.684381], [-87.693136, 41.684369], [-87.693571, 41.684364], [-87.694062, 41.684357], [-87.694403, 41.684353], [-87.694691, 41.684349], [-87.695192, 41.684342], [-87.695625, 41.684333], [-87.695644, 41.684813], [-87.695658, 41.685252], [-87.695672, 41.685672], [-87.695701, 41.68636], [-87.695762, 41.687992], [-87.695762, 41.688012], [-87.695765, 41.688076], [-87.695766, 41.688076], [-87.695917, 41.691625], [-87.695903, 41.691625], [-87.695898, 41.691625], [-87.695895, 41.691625], [-87.695757, 41.691627], [-87.695762, 41.691708], [-87.695762, 41.691715], [-87.69209, 41.69176], [-87.692103, 41.692143], [-87.692105, 41.692202], [-87.691706, 41.692206], [-87.691708, 41.692275], [-87.691009, 41.692283]]]}, \"properties\": {\"id\": 1024497019, \"name\": \"Mount Olivet Cemetery\", \"bounding_box\": \"[-87.695917, 41.684333, -87.690096, 41.692283]\"}}, {\"type\": \"Feature\", \"geometry\": {\"type\": \"MultiPolygon\", \"coordinates\": [[[[-87.667275, 41.728765], [-87.667275, 41.728765], [-87.667309, 41.728682], [-87.667309, 41.728682], [-87.667323, 41.728648], [-87.667341, 41.728598], [-87.667386, 41.728504], [-87.667417, 41.728468], [-87.667436, 41.728451], [-87.667472, 41.728431], [-87.667552, 41.728399], [-87.667604, 41.728382], [-87.667634, 41.72838], [-87.667688, 41.728386], [-87.667729, 41.728396], [-87.667891, 41.728415], [-87.667952, 41.72843], [-87.668016, 41.728431], [-87.668082, 41.728433], [-87.668182, 41.728426], [-87.668303, 41.728418], [-87.668474, 41.7284], [-87.668589, 41.728382], [-87.668711, 41.72836], [-87.668807, 41.72834], [-87.668916, 41.728314], [-87.669177, 41.728233], [-87.669314, 41.72819], [-87.669536, 41.728097], [-87.669762, 41.727981], [-87.669767, 41.727978], [-87.669926, 41.727886], [-87.67001, 41.727836], [-87.670034, 41.727825], [-87.670304, 41.727687], [-87.670417, 41.727781], [-87.67046, 41.72779], [-87.670504, 41.727793], [-87.670562, 41.727788], [-87.670609, 41.727777], [-87.670664, 41.727761], [-87.670698, 41.727747], [-87.670742, 41.727725], [-87.67078, 41.727701], [-87.670804, 41.727681], [-87.67082, 41.727667], [-87.670851, 41.727634], [-87.67088, 41.727604], [-87.670911, 41.727575], [-87.670948, 41.727545], [-87.670991, 41.727515], [-87.671046, 41.727486], [-87.671078, 41.727472], [-87.671135, 41.727454], [-87.671173, 41.727448], [-87.671191, 41.727446], [-87.67135, 41.727448], [-87.671351, 41.727508], [-87.671367, 41.727891], [-87.671373, 41.728046], [-87.671378, 41.728171], [-87.671381, 41.728256], [-87.671385, 41.728376], [-87.671386, 41.728389], [-87.671399, 41.728538], [-87.671405, 41.728567], [-87.671426, 41.728627], [-87.67144, 41.728655], [-87.671467, 41.728694], [-87.671487, 41.728713], [-87.671745, 41.728983], [-87.671816, 41.729086], [-87.671845, 41.729129], [-87.67196, 41.729321], [-87.672816, 41.730125], [-87.672904, 41.730227], [-87.672958, 41.730289], [-87.67299, 41.730327], [-87.673063, 41.730405], [-87.673119, 41.730466], [-87.673236, 41.730592], [-87.673395, 41.730765], [-87.673577, 41.730963], [-87.673786, 41.73119], [-87.673678, 41.731266], [-87.673643, 41.731294], [-87.673616, 41.731326], [-87.673597, 41.731348], [-87.673585, 41.731371], [-87.673573, 41.731396], [-87.673568, 41.731415], [-87.673562, 41.731459], [-87.673562, 41.731492], [-87.67357, 41.731535], [-87.673573, 41.731651], [-87.673572, 41.731696], [-87.673568, 41.731749], [-87.673551, 41.731855], [-87.673531, 41.731928], [-87.6735, 41.732012], [-87.673455, 41.732103], [-87.67342, 41.732163], [-87.673381, 41.732229], [-87.673337, 41.732297], [-87.673308, 41.732338], [-87.673208, 41.732443], [-87.673149, 41.732493], [-87.673037, 41.732574], [-87.672988, 41.732606], [-87.672925, 41.732648], [-87.6729, 41.732672], [-87.672884, 41.732694], [-87.672866, 41.73272], [-87.67286, 41.732733], [-87.672853, 41.732762], [-87.672855, 41.732778], [-87.672857, 41.732798], [-87.672865, 41.732817], [-87.672878, 41.732837], [-87.672891, 41.732852], [-87.672974, 41.732919], [-87.673413, 41.733264], [-87.673478, 41.733313], [-87.673602, 41.733413], [-87.673753, 41.733536], [-87.673879, 41.733637], [-87.674118, 41.733818], [-87.674192, 41.733875], [-87.67426, 41.733927], [-87.674631, 41.734219], [-87.674793, 41.734185], [-87.674854, 41.734134], [-87.674904, 41.734091], [-87.674916, 41.734083], [-87.674981, 41.734034], [-87.675045, 41.733987], [-87.675046, 41.733986], [-87.675116, 41.733942], [-87.675184, 41.733898], [-87.675195, 41.733891], [-87.675259, 41.733856], [-87.675332, 41.733816], [-87.675355, 41.733804], [-87.675412, 41.733777], [-87.675493, 41.73374], [-87.675522, 41.733726], [-87.675577, 41.733705], [-87.67566, 41.733672], [-87.675697, 41.733657], [-87.675747, 41.733641], [-87.675835, 41.733613], [-87.675878, 41.733599], [-87.675925, 41.733587], [-87.676028, 41.73356], [-87.676065, 41.73355], [-87.676256, 41.733512], [-87.676263, 41.733747], [-87.676266, 41.733855], [-87.676273, 41.733853], [-87.676386, 41.733834], [-87.676447, 41.733824], [-87.676506, 41.733816], [-87.676615, 41.7338], [-87.676959, 41.733742], [-87.677018, 41.733731], [-87.677013, 41.733563], [-87.677011, 41.733494], [-87.677009, 41.733425], [-87.677007, 41.733357], [-87.677462, 41.73335], [-87.677583, 41.733348], [-87.677581, 41.733303], [-87.677516, 41.731061], [-87.677515, 41.731041], [-87.677636, 41.731039], [-87.678092, 41.731032], [-87.67815, 41.731031], [-87.678606, 41.731025], [-87.678848, 41.731021], [-87.679301, 41.731014], [-87.67936, 41.731014], [-87.679814, 41.731007], [-87.680056, 41.731003], [-87.68051, 41.730997], [-87.680568, 41.730996], [-87.681023, 41.730989], [-87.681264, 41.730985], [-87.681705, 41.730979], [-87.681763, 41.730978], [-87.682203, 41.730971], [-87.682204, 41.730975], [-87.682373, 41.730964], [-87.682376, 41.731071], [-87.682389, 41.73148], [-87.682391, 41.731526], [-87.682402, 41.731877], [-87.682402, 41.731877], [-87.682409, 41.732091], [-87.682415, 41.732298], [-87.682425, 41.732597], [-87.682431, 41.732809], [-87.682431, 41.732809], [-87.682446, 41.733252], [-87.682451, 41.733419], [-87.682455, 41.733544], [-87.682468, 41.73393], [-87.682479, 41.734327], [-87.682485, 41.734657], [-87.6825, 41.735056], [-87.682512, 41.73546], [-87.682512, 41.73546], [-87.682512, 41.735472], [-87.682512, 41.735472], [-87.682514, 41.735527], [-87.682515, 41.735527], [-87.682515, 41.735527], [-87.682521, 41.735527], [-87.682909, 41.735522], [-87.682993, 41.735521], [-87.683083, 41.735519], [-87.683086, 41.735519], [-87.683133, 41.735519], [-87.68344, 41.735513], [-87.683882, 41.735505], [-87.684142, 41.7355], [-87.684218, 41.735499], [-87.684411, 41.735494], [-87.684607, 41.735491], [-87.684636, 41.73549], [-87.684824, 41.735487], [-87.68519, 41.735481], [-87.685271, 41.73548], [-87.6853, 41.735479], [-87.685338, 41.735479], [-87.685447, 41.735477], [-87.685554, 41.735476], [-87.685559, 41.735476], [-87.685713, 41.735473], [-87.686027, 41.735468], [-87.686298, 41.735463], [-87.686495, 41.73546], [-87.686738, 41.735455], [-87.686953, 41.735451], [-87.687174, 41.735449], [-87.687354, 41.735447], [-87.687395, 41.735446], [-87.687415, 41.735853], [-87.68745, 41.7371], [-87.687453, 41.737232], [-87.687476, 41.738179], [-87.687497, 41.739134], [-87.687527, 41.740229], [-87.687549, 41.741157], [-87.687554, 41.74133], [-87.687556, 41.741599], [-87.687558, 41.741681], [-87.687557, 41.741762], [-87.687554, 41.741843], [-87.687548, 41.741925], [-87.68754, 41.742006], [-87.687529, 41.742087], [-87.687515, 41.742167], [-87.687499, 41.742248], [-87.687485, 41.742313], [-87.687468, 41.742378], [-87.687449, 41.742442], [-87.687435, 41.742484], [-87.687428, 41.742506], [-87.687404, 41.742569], [-87.687377, 41.742632], [-87.687349, 41.742694], [-87.687326, 41.742739], [-87.6873, 41.74274], [-87.687036, 41.742744], [-87.686655, 41.742751], [-87.686393, 41.742755], [-87.686052, 41.742761], [-87.685717, 41.742767], [-87.685446, 41.742773], [-87.685175, 41.742777], [-87.684813, 41.742782], [-87.684494, 41.742787], [-87.684192, 41.742793], [-87.683961, 41.742797], [-87.683698, 41.742801], [-87.683418, 41.742805], [-87.683033, 41.742812], [-87.682679, 41.742816], [-87.682682, 41.743071], [-87.682685, 41.743215], [-87.68269, 41.743417], [-87.682703, 41.743906], [-87.682706, 41.744066], [-87.682708, 41.744161], [-87.682714, 41.744445], [-87.682053, 41.744456], [-87.681949, 41.744456], [-87.681787, 41.74446], [-87.681626, 41.744468], [-87.681465, 41.744481], [-87.681305, 41.744498], [-87.681146, 41.74452], [-87.680988, 41.744545], [-87.680831, 41.744575], [-87.680747, 41.744594], [-87.680612, 41.744628], [-87.68048, 41.744666], [-87.680349, 41.744708], [-87.680221, 41.744754], [-87.680156, 41.74478], [-87.680096, 41.744804], [-87.679973, 41.744858], [-87.679854, 41.744916], [-87.679738, 41.744977], [-87.679625, 41.745042], [-87.679574, 41.745073], [-87.679465, 41.745143], [-87.67936, 41.745217], [-87.679259, 41.745294], [-87.679162, 41.745374], [-87.67907, 41.745456], [-87.678982, 41.745542], [-87.678899, 41.74563], [-87.678821, 41.745721], [-87.678748, 41.745814], [-87.678744, 41.745818], [-87.678674, 41.745919], [-87.678609, 41.746022], [-87.678549, 41.746126], [-87.678495, 41.746233], [-87.678446, 41.74634], [-87.678403, 41.746449], [-87.67836, 41.746581], [-87.678179, 41.746586], [-87.678181, 41.746565], [-87.678182, 41.746458], [-87.678182, 41.74645], [-87.678166, 41.746004], [-87.678161, 41.745868], [-87.678161, 41.745807], [-87.678167, 41.745751], [-87.678175, 41.745713], [-87.678161, 41.745155], [-87.678137, 41.744451], [-87.678114, 41.74404], [-87.678094, 41.743671], [-87.678094, 41.743666], [-87.678078, 41.743487], [-87.678056, 41.743307], [-87.678028, 41.743128], [-87.677998, 41.742976], [-87.677998, 41.742974], [-87.67796, 41.74278], [-87.677926, 41.742607], [-87.677906, 41.742506], [-87.67788, 41.742428], [-87.677787, 41.742136], [-87.677639, 41.741661], [-87.677422, 41.741105], [-87.677372, 41.740995], [-87.677217, 41.740658], [-87.676895, 41.740112], [-87.676553, 41.739589], [-87.676227, 41.739135], [-87.675905, 41.738749], [-87.675493, 41.738251], [-87.675012, 41.737687], [-87.674685, 41.737313], [-87.673924, 41.736468], [-87.673322, 41.735781], [-87.673309, 41.735765], [-87.673107, 41.735516], [-87.673074, 41.735475], [-87.672882, 41.735249], [-87.672435, 41.734723], [-87.671896, 41.734135], [-87.671405, 41.733596], [-87.6711, 41.733278], [-87.670486, 41.732624], [-87.66986, 41.731913], [-87.669148, 41.7311], [-87.668547, 41.730418], [-87.668142, 41.729932], [-87.6677, 41.729455], [-87.667513, 41.72927], [-87.667263, 41.728872], [-87.667247, 41.728851], [-87.667248, 41.728847], [-87.667248, 41.728847], [-87.667275, 41.728765]]]]}, \"properties\": {\"id\": 1024497017, \"name\": \"Dan Ryan Woods\", \"bounding_box\": \"[-87.6875580416075, 41.7274456799653, -87.66724702338674, 41.7465856136015]\"}}, {\"type\": \"Feature\", \"geometry\": {\"type\": \"MultiPolygon\", \"coordinates\": [[[[-87.605855, 41.710386], [-87.604963, 41.710372], [-87.604105, 41.710385], [-87.603372, 41.710397], [-87.601846, 41.710422], [-87.601843, 41.710313], [-87.60166, 41.710316], [-87.60058, 41.710334], [-87.600572, 41.7101], [-87.599968, 41.71011], [-87.599967, 41.710069], [-87.599234, 41.710081], [-87.598705, 41.710089], [-87.598101, 41.710099], [-87.59527, 41.710145], [-87.595281, 41.710169], [-87.595291, 41.710196], [-87.595289, 41.710219], [-87.595262, 41.710245], [-87.595212, 41.710283], [-87.595186, 41.710316], [-87.595157, 41.71035], [-87.595145, 41.710371], [-87.595148, 41.710396], [-87.595155, 41.710428], [-87.595206, 41.710508], [-87.595302, 41.710629], [-87.595576, 41.71086], [-87.596581, 41.711554], [-87.596703, 41.711638], [-87.59745, 41.712039], [-87.598261, 41.712369], [-87.599308, 41.712353], [-87.600074, 41.712342], [-87.601221, 41.712448], [-87.601919, 41.712627], [-87.60225, 41.712712], [-87.602583, 41.712778], [-87.603386, 41.712867], [-87.604184, 41.712855], [-87.60475, 41.712846], [-87.605297, 41.712818], [-87.605335, 41.712652], [-87.605409, 41.712328], [-87.605572, 41.711618], [-87.605619, 41.711413], [-87.605713, 41.711003], [-87.605725, 41.71095], [-87.60574, 41.710884], [-87.605822, 41.710529], [-87.605855, 41.710386]]]]}, \"properties\": {\"id\": 1024497011, \"name\": \"London Town\", \"bounding_box\": \"[-87.6058545074152, 41.7100689393819, -87.5951447770956, 41.7128667564215]\"}}, {\"type\": \"Feature\", \"geometry\": {\"type\": \"MultiPolygon\", \"coordinates\": [[[[-87.631821, 41.808242], [-87.631789, 41.807682], [-87.631733, 41.806899], [-87.63162, 41.805348], [-87.631462, 41.803053], [-87.631345, 41.80189], [-87.631303, 41.80084], [-87.631237, 41.798121], [-87.631228, 41.797754], [-87.631157, 41.79542], [-87.631122, 41.794537], [-87.630967, 41.794541], [-87.630879, 41.794543], [-87.630769, 41.794546], [-87.630672, 41.794549], [-87.630513, 41.794563], [-87.630388, 41.794577], [-87.630205, 41.794582], [-87.629841, 41.794582], [-87.629722, 41.794582], [-87.629566, 41.794583], [-87.629341, 41.794584], [-87.628886, 41.794592], [-87.628628, 41.794598], [-87.627784, 41.794614], [-87.626785, 41.794632], [-87.625701, 41.794643], [-87.625704, 41.794738], [-87.625712, 41.795068], [-87.62572, 41.795418], [-87.625729, 41.795729], [-87.625733, 41.79587], [-87.625744, 41.796316], [-87.625748, 41.796475], [-87.625753, 41.79664], [-87.625769, 41.797273], [-87.625785, 41.797926], [-87.625792, 41.798114], [-87.625796, 41.798249], [-87.625804, 41.798546], [-87.625805, 41.798616], [-87.62581, 41.798782], [-87.625817, 41.799131], [-87.625818, 41.799183], [-87.625838, 41.799883], [-87.625846, 41.800191], [-87.625851, 41.800373], [-87.625864, 41.800872], [-87.625866, 41.800941], [-87.625882, 41.801615], [-87.62589, 41.801946], [-87.625894, 41.802137], [-87.625903, 41.802499], [-87.625911, 41.802792], [-87.625933, 41.80366], [-87.625933, 41.803691], [-87.625953, 41.804411], [-87.62597, 41.805073], [-87.62598, 41.805477], [-87.625981, 41.805503], [-87.625982, 41.805563], [-87.625989, 41.805838], [-87.625999, 41.80616], [-87.626008, 41.806482], [-87.626016, 41.806779], [-87.626023, 41.807125], [-87.626032, 41.807416], [-87.626045, 41.807829], [-87.626058, 41.808241], [-87.626068, 41.8086], [-87.626077, 41.808971], [-87.626085, 41.809236], [-87.626097, 41.809654], [-87.626108, 41.810111], [-87.626118, 41.810556], [-87.626125, 41.81089], [-87.62613, 41.811054], [-87.626139, 41.811298], [-87.626139, 41.811299], [-87.626152, 41.81182], [-87.626162, 41.812278], [-87.626163, 41.812339], [-87.626168, 41.812576], [-87.626176, 41.812908], [-87.626183, 41.813059], [-87.626193, 41.813253], [-87.626199, 41.813515], [-87.626205, 41.813847], [-87.626212, 41.814155], [-87.626221, 41.814527], [-87.626228, 41.814687], [-87.626233, 41.814844], [-87.62624, 41.815105], [-87.626251, 41.815586], [-87.626252, 41.815627], [-87.626258, 41.815936], [-87.626263, 41.816336], [-87.626271, 41.81649], [-87.626278, 41.816642], [-87.626287, 41.817007], [-87.626295, 41.817303], [-87.626305, 41.817659], [-87.626311, 41.817908], [-87.626317, 41.818217], [-87.626319, 41.818304], [-87.626326, 41.818503], [-87.626333, 41.818787], [-87.626338, 41.819], [-87.626344, 41.819198], [-87.626344, 41.819201], [-87.62635, 41.819351], [-87.626353, 41.819553], [-87.626355, 41.819748], [-87.626358, 41.819898], [-87.626362, 41.820109], [-87.626397, 41.821812], [-87.6264, 41.821953], [-87.626404, 41.822121], [-87.626407, 41.822336], [-87.62641, 41.822641], [-87.626415, 41.8229], [-87.626421, 41.823115], [-87.626428, 41.823389], [-87.626431, 41.823534], [-87.626422, 41.823714], [-87.626612, 41.823711], [-87.626987, 41.823708], [-87.627225, 41.823705], [-87.627593, 41.823699], [-87.627734, 41.823697], [-87.62807, 41.82369], [-87.628307, 41.823688], [-87.628618, 41.823685], [-87.628765, 41.823684], [-87.628968, 41.823681], [-87.62913, 41.82368], [-87.629168, 41.823679], [-87.62926, 41.823678], [-87.629384, 41.823676], [-87.629466, 41.823675], [-87.629641, 41.823672], [-87.629849, 41.823668], [-87.629924, 41.823667], [-87.630033, 41.823666], [-87.630296, 41.823662], [-87.630467, 41.823659], [-87.630453, 41.823316], [-87.630451, 41.823134], [-87.630442, 41.822333], [-87.630383, 41.820328], [-87.630363, 41.819742], [-87.630341, 41.819052], [-87.630309, 41.817687], [-87.630279, 41.816467], [-87.630239, 41.815159], [-87.630231, 41.813927], [-87.630228, 41.811998], [-87.630262, 41.811876], [-87.630297, 41.811734], [-87.630337, 41.811603], [-87.630398, 41.811422], [-87.630485, 41.811207], [-87.630579, 41.811042], [-87.630678, 41.810886], [-87.630785, 41.810696], [-87.630878, 41.81054], [-87.630964, 41.810423], [-87.631064, 41.810287], [-87.631184, 41.810102], [-87.63135, 41.80981], [-87.63145, 41.809629], [-87.631504, 41.809517], [-87.631564, 41.809376], [-87.631604, 41.809259], [-87.631658, 41.809135], [-87.631686, 41.80902], [-87.6317, 41.808922], [-87.631741, 41.808741], [-87.631769, 41.808575], [-87.631797, 41.808399], [-87.631821, 41.808242]]]]}, \"properties\": {\"id\": 1024497013, \"name\": \"The Robert Taylor Homes\", \"bounding_box\": \"[-87.6318214839248, 41.7945368771209, -87.625701045341, 41.8237137641817]\"}}, {\"type\": \"Feature\", \"geometry\": {\"type\": \"MultiPolygon\", \"coordinates\": [[[[-87.737617, 41.785783], [-87.738045, 41.785743], [-87.73817, 41.785711], [-87.738447, 41.785607], [-87.738619, 41.785485], [-87.738762, 41.785307], [-87.738921, 41.78504], [-87.739096, 41.784734], [-87.739508, 41.784402], [-87.739852, 41.784303], [-87.739994, 41.784281], [-87.740024, 41.784276], [-87.741097, 41.784265], [-87.741402, 41.784317], [-87.741847, 41.783672], [-87.742195, 41.783206], [-87.742377, 41.782833], [-87.742421, 41.782411], [-87.742411, 41.782083], [-87.742407, 41.781941], [-87.742398, 41.78165], [-87.742389, 41.781392], [-87.742374, 41.780961], [-87.742361, 41.780599], [-87.742351, 41.780265], [-87.74235, 41.780257], [-87.742342, 41.779981], [-87.742336, 41.779724], [-87.742326, 41.779349], [-87.742309, 41.778909], [-87.742301, 41.778692], [-87.742293, 41.778429], [-87.74263, 41.778425], [-87.743061, 41.778416], [-87.743504, 41.778406], [-87.743712, 41.778402], [-87.743975, 41.778398], [-87.744148, 41.778393], [-87.744351, 41.778389], [-87.744564, 41.778387], [-87.744716, 41.778384], [-87.744826, 41.778382], [-87.74504, 41.778378], [-87.745219, 41.778374], [-87.745508, 41.778368], [-87.745687, 41.778365], [-87.745938, 41.778359], [-87.746105, 41.778355], [-87.746432, 41.778349], [-87.74664, 41.778345], [-87.746819, 41.778342], [-87.747149, 41.778336], [-87.747284, 41.778333], [-87.747458, 41.77833], [-87.747643, 41.778326], [-87.747898, 41.778322], [-87.7481, 41.778318], [-87.748365, 41.778313], [-87.748511, 41.77831], [-87.748827, 41.778304], [-87.749094, 41.778299], [-87.749388, 41.778293], [-87.749562, 41.778289], [-87.749692, 41.778286], [-87.750013, 41.77828], [-87.750351, 41.778273], [-87.750508, 41.77827], [-87.75079, 41.778265], [-87.750946, 41.778262], [-87.75125, 41.778256], [-87.751496, 41.778251], [-87.751751, 41.778245], [-87.752006, 41.778241], [-87.752284, 41.778237], [-87.752545, 41.778232], [-87.75279, 41.778227], [-87.752958, 41.778223], [-87.753142, 41.77822], [-87.753219, 41.778218], [-87.753425, 41.778215], [-87.753767, 41.778208], [-87.754054, 41.778202], [-87.754331, 41.778196], [-87.754423, 41.778194], [-87.75463, 41.77819], [-87.754928, 41.778185], [-87.755231, 41.778179], [-87.755471, 41.778175], [-87.755648, 41.778171], [-87.755799, 41.778168], [-87.756075, 41.778163], [-87.756362, 41.778158], [-87.756622, 41.778153], [-87.756864, 41.778148], [-87.757256, 41.77814], [-87.757636, 41.778133], [-87.757902, 41.778128], [-87.758169, 41.778123], [-87.758429, 41.778118], [-87.758646, 41.778114], [-87.758912, 41.778109], [-87.75928, 41.778102], [-87.759675, 41.778094], [-87.760039, 41.778087], [-87.76044, 41.778079], [-87.760706, 41.778073], [-87.761044, 41.778067], [-87.761435, 41.778059], [-87.761715, 41.778053], [-87.761723, 41.778236], [-87.761731, 41.778439], [-87.761734, 41.77851], [-87.761737, 41.778593], [-87.761743, 41.778743], [-87.761745, 41.77879], [-87.761752, 41.778987], [-87.761762, 41.779193], [-87.761776, 41.779424], [-87.761787, 41.779641], [-87.761797, 41.779885], [-87.761802, 41.780023], [-87.761812, 41.780285], [-87.761821, 41.780492], [-87.761829, 41.780698], [-87.761838, 41.780905], [-87.761847, 41.781117], [-87.761857, 41.781336], [-87.761863, 41.781478], [-87.761873, 41.781722], [-87.761882, 41.781937], [-87.761891, 41.782162], [-87.761901, 41.782421], [-87.761912, 41.782693], [-87.761921, 41.782912], [-87.761932, 41.783158], [-87.761938, 41.783306], [-87.761948, 41.783556], [-87.761956, 41.78375], [-87.761962, 41.783915], [-87.76197, 41.784104], [-87.761977, 41.784293], [-87.761985, 41.784506], [-87.761993, 41.784689], [-87.762001, 41.784895], [-87.762007, 41.785019], [-87.762012, 41.785143], [-87.762022, 41.785325], [-87.762024, 41.785393], [-87.76203, 41.785521], [-87.762035, 41.785652], [-87.762038, 41.785725], [-87.762044, 41.785906], [-87.76205, 41.786168], [-87.762056, 41.786422], [-87.762065, 41.786613], [-87.76207, 41.786743], [-87.762079, 41.786959], [-87.76209, 41.787239], [-87.76209, 41.787253], [-87.7621, 41.787481], [-87.762114, 41.787773], [-87.762125, 41.788053], [-87.762137, 41.788339], [-87.762148, 41.788596], [-87.762159, 41.788848], [-87.762168, 41.789064], [-87.762168, 41.789069], [-87.762182, 41.78941], [-87.762192, 41.789668], [-87.762199, 41.789861], [-87.762204, 41.789994], [-87.762206, 41.790056], [-87.762214, 41.790246], [-87.762223, 41.790458], [-87.76223, 41.790629], [-87.76224, 41.7909], [-87.76225, 41.79117], [-87.762256, 41.791335], [-87.762264, 41.791571], [-87.762272, 41.791814], [-87.76228, 41.792069], [-87.762288, 41.792274], [-87.762289, 41.79231], [-87.762298, 41.792515], [-87.762302, 41.792736], [-87.762179, 41.792738], [-87.761903, 41.792743], [-87.761701, 41.792745], [-87.761564, 41.792747], [-87.761333, 41.792752], [-87.761087, 41.792756], [-87.760798, 41.792761], [-87.760537, 41.792764], [-87.760291, 41.792768], [-87.760018, 41.792772], [-87.759868, 41.792774], [-87.759655, 41.792777], [-87.759387, 41.792781], [-87.759256, 41.792783], [-87.759094, 41.792786], [-87.75881, 41.79279], [-87.758638, 41.792794], [-87.758512, 41.792796], [-87.758312, 41.792798], [-87.758151, 41.7928], [-87.758032, 41.792802], [-87.757967, 41.792803], [-87.757692, 41.792806], [-87.75742, 41.79281], [-87.757153, 41.792814], [-87.757031, 41.792816], [-87.756831, 41.79282], [-87.756608, 41.792824], [-87.756352, 41.792828], [-87.756196, 41.79283], [-87.755876, 41.792835], [-87.755677, 41.792838], [-87.755453, 41.792843], [-87.755299, 41.792845], [-87.754975, 41.792849], [-87.754862, 41.79285], [-87.754585, 41.792855], [-87.754285, 41.79286], [-87.75394, 41.792865], [-87.753752, 41.792868], [-87.75364, 41.79287], [-87.753433, 41.792873], [-87.753197, 41.792877], [-87.753027, 41.79288], [-87.75301, 41.792881], [-87.752878, 41.792883], [-87.752507, 41.792888], [-87.752182, 41.792892], [-87.751827, 41.792897], [-87.751495, 41.792902], [-87.751117, 41.792907], [-87.750747, 41.792912], [-87.750499, 41.792916], [-87.750265, 41.792919], [-87.750106, 41.792921], [-87.74967, 41.792927], [-87.749345, 41.792932], [-87.748744, 41.792942], [-87.748341, 41.792948], [-87.747863, 41.792955], [-87.747725, 41.792957], [-87.747531, 41.79296], [-87.747168, 41.792965], [-87.746883, 41.792969], [-87.746563, 41.792974], [-87.746307, 41.792978], [-87.745915, 41.792983], [-87.745613, 41.792987], [-87.745451, 41.79299], [-87.745258, 41.792992], [-87.744949, 41.792997], [-87.74464, 41.793002], [-87.744462, 41.793004], [-87.744146, 41.79301], [-87.743972, 41.793012], [-87.743841, 41.793015], [-87.743618, 41.79302], [-87.743129, 41.793017], [-87.742799, 41.793016], [-87.742662, 41.793016], [-87.741985, 41.793031], [-87.741517, 41.793041], [-87.741462, 41.793042], [-87.741087, 41.793046], [-87.740703, 41.793051], [-87.740318, 41.793054], [-87.740016, 41.793057], [-87.739632, 41.793061], [-87.739211, 41.793068], [-87.73909, 41.793068], [-87.73784, 41.793077], [-87.737835, 41.792896], [-87.737818, 41.792469], [-87.737816, 41.79239], [-87.737807, 41.792071], [-87.737782, 41.791248], [-87.737756, 41.790482], [-87.737732, 41.789635], [-87.737705, 41.788758], [-87.737676, 41.78774], [-87.737646, 41.786768], [-87.737632, 41.786307], [-87.737618, 41.785837], [-87.737617, 41.785783]]]]}, \"properties\": {\"id\": 1024497015, \"name\": \"Chicago Midway International Airport\", \"bounding_box\": \"[-87.7623015788722, 41.7780533089145, -87.7376166017709, 41.7930768143299]\"}}, {\"type\": \"Feature\", \"geometry\": {\"type\": \"MultiPolygon\", \"coordinates\": [[[[-87.545677, 41.722821], [-87.545588, 41.722829], [-87.545104, 41.722838], [-87.544733, 41.722839], [-87.544249, 41.722847], [-87.543746, 41.722853], [-87.543726, 41.722853], [-87.543209, 41.722863], [-87.543144, 41.722862], [-87.543137, 41.722802], [-87.543102, 41.722608], [-87.543094, 41.722551], [-87.543022, 41.721992], [-87.542958, 41.721632], [-87.542809, 41.721233], [-87.542735, 41.720969], [-87.542692, 41.720816], [-87.542705, 41.720506], [-87.542788, 41.720338], [-87.542889, 41.720135], [-87.542974, 41.71969], [-87.542992, 41.719528], [-87.543011, 41.719362], [-87.543023, 41.719256], [-87.543039, 41.719115], [-87.543164, 41.718022], [-87.543153, 41.717941], [-87.543149, 41.71792], [-87.543141, 41.717882], [-87.543129, 41.7178], [-87.543123, 41.717758], [-87.543077, 41.717469], [-87.543062, 41.717366], [-87.543057, 41.717333], [-87.54303, 41.717148], [-87.54242, 41.716439], [-87.542318, 41.715862], [-87.542212, 41.715762], [-87.54218, 41.715643], [-87.542182, 41.71553], [-87.542185, 41.715276], [-87.542211, 41.714622], [-87.542288, 41.714255], [-87.542401, 41.71397], [-87.542445, 41.713821], [-87.542533, 41.713522], [-87.542595, 41.712883], [-87.542607, 41.711915], [-87.542614, 41.711399], [-87.542674, 41.71095], [-87.542734, 41.7108], [-87.542726, 41.710754], [-87.542769, 41.710723], [-87.54286, 41.710557], [-87.543063, 41.710259], [-87.543087, 41.710223], [-87.543168, 41.710101], [-87.543197, 41.710035], [-87.543279, 41.709848], [-87.543305, 41.709816], [-87.54334, 41.709773], [-87.543641, 41.709404], [-87.5439, 41.709191], [-87.544262, 41.708895], [-87.544587, 41.708675], [-87.545195, 41.708198], [-87.545266, 41.708142], [-87.545638, 41.707698], [-87.54573, 41.707562], [-87.545793, 41.70747], [-87.545856, 41.707333], [-87.545854, 41.7064], [-87.545853, 41.706302], [-87.545876, 41.705612], [-87.545715, 41.705144], [-87.545672, 41.704903], [-87.545629, 41.70464], [-87.545629, 41.704585], [-87.545629, 41.70457], [-87.545623, 41.70393], [-87.54566, 41.70338], [-87.545756, 41.703049], [-87.545903, 41.702771], [-87.545905, 41.702767], [-87.545627, 41.702767], [-87.545427, 41.702767], [-87.544838, 41.702766], [-87.544228, 41.702765], [-87.54402, 41.702764], [-87.543796, 41.702763], [-87.543843, 41.702703], [-87.543844, 41.702703], [-87.543846, 41.7027], [-87.54389, 41.702643], [-87.543908, 41.702619], [-87.543914, 41.702611], [-87.543918, 41.702605], [-87.543934, 41.702584], [-87.543976, 41.702525], [-87.544, 41.70249], [-87.544004, 41.702484], [-87.544006, 41.702481], [-87.544016, 41.702466], [-87.544055, 41.702405], [-87.544092, 41.702345], [-87.544101, 41.70233], [-87.544191, 41.702187], [-87.544193, 41.702184], [-87.544249, 41.702103], [-87.544347, 41.70197], [-87.544422, 41.701869], [-87.544565, 41.701679], [-87.544727, 41.701464], [-87.544782, 41.701392], [-87.544887, 41.701239], [-87.544889, 41.701236], [-87.54489, 41.701234], [-87.544892, 41.701232], [-87.544894, 41.701229], [-87.544895, 41.701227], [-87.544897, 41.701224], [-87.544898, 41.701222], [-87.5449, 41.70122], [-87.544901, 41.701217], [-87.544903, 41.701215], [-87.544904, 41.701212], [-87.544906, 41.70121], [-87.544907, 41.701208], [-87.544909, 41.701205], [-87.54491, 41.701203], [-87.544912, 41.7012], [-87.544913, 41.701198], [-87.544915, 41.701195], [-87.544916, 41.701193], [-87.544918, 41.701191], [-87.544919, 41.701188], [-87.544921, 41.701186], [-87.544922, 41.701183], [-87.544924, 41.701181], [-87.544925, 41.701179], [-87.544927, 41.701176], [-87.544928, 41.701174], [-87.544929, 41.701171], [-87.544931, 41.701169], [-87.544932, 41.701166], [-87.544934, 41.701164], [-87.544935, 41.701162], [-87.544937, 41.701159], [-87.544938, 41.701157], [-87.54494, 41.701154], [-87.544941, 41.701152], [-87.544942, 41.701149], [-87.544944, 41.701147], [-87.544945, 41.701145], [-87.544947, 41.701142], [-87.544948, 41.70114], [-87.544949, 41.701137], [-87.544951, 41.701135], [-87.544952, 41.701132], [-87.544954, 41.70113], [-87.544955, 41.701127], [-87.544956, 41.701125], [-87.544958, 41.701123], [-87.544959, 41.70112], [-87.54496, 41.701118], [-87.544962, 41.701115], [-87.544963, 41.701113], [-87.544965, 41.70111], [-87.544966, 41.701108], [-87.544967, 41.701105], [-87.544969, 41.701103], [-87.54497, 41.7011], [-87.544971, 41.701098], [-87.544973, 41.701096], [-87.544974, 41.701093], [-87.544975, 41.701091], [-87.544975, 41.701091], [-87.544977, 41.701088], [-87.544978, 41.701086], [-87.544978, 41.701086], [-87.544979, 41.701083], [-87.544981, 41.701081], [-87.544982, 41.701078], [-87.544983, 41.701076], [-87.544984, 41.701073], [-87.544986, 41.701071], [-87.544987, 41.701068], [-87.544988, 41.701066], [-87.54499, 41.701063], [-87.544991, 41.701061], [-87.544992, 41.701058], [-87.544993, 41.701056], [-87.544995, 41.701054], [-87.544996, 41.701051], [-87.544997, 41.701049], [-87.544998, 41.701046], [-87.545, 41.701044], [-87.545001, 41.701041], [-87.545002, 41.701039], [-87.545003, 41.701036], [-87.545005, 41.701034], [-87.545006, 41.701031], [-87.545007, 41.701029], [-87.545008, 41.701026], [-87.54501, 41.701024], [-87.545011, 41.701021], [-87.545012, 41.701019], [-87.545013, 41.701016], [-87.545014, 41.701014], [-87.545016, 41.701011], [-87.545017, 41.701009], [-87.545018, 41.701006], [-87.545019, 41.701004], [-87.54502, 41.701001], [-87.545022, 41.700999], [-87.545023, 41.700996], [-87.545024, 41.700994], [-87.545025, 41.700991], [-87.545026, 41.700989], [-87.545027, 41.700986], [-87.545029, 41.700984], [-87.54503, 41.700981], [-87.545031, 41.700979], [-87.545032, 41.700976], [-87.545033, 41.700974], [-87.545034, 41.700971], [-87.545035, 41.700969], [-87.545036, 41.700966], [-87.545038, 41.700963], [-87.545039, 41.700961], [-87.54504, 41.700958], [-87.545041, 41.700956], [-87.545042, 41.700953], [-87.545043, 41.700951], [-87.545044, 41.700948], [-87.545045, 41.700946], [-87.545046, 41.700943], [-87.545048, 41.700941], [-87.545049, 41.700938], [-87.54505, 41.700936], [-87.545051, 41.700933], [-87.545052, 41.700931], [-87.545053, 41.700928], [-87.545054, 41.700926], [-87.545055, 41.700923], [-87.545056, 41.70092], [-87.545057, 41.700918], [-87.545058, 41.700915], [-87.545059, 41.700913], [-87.54506, 41.70091], [-87.545061, 41.700908], [-87.545062, 41.700905], [-87.545063, 41.700903], [-87.545064, 41.7009], [-87.545065, 41.700898], [-87.545066, 41.700895], [-87.545067, 41.700892], [-87.545068, 41.70089], [-87.545069, 41.700887], [-87.54507, 41.700885], [-87.545071, 41.700882], [-87.545072, 41.70088], [-87.545073, 41.700877], [-87.545074, 41.700875], [-87.545075, 41.700872], [-87.545076, 41.70087], [-87.545077, 41.700867], [-87.545078, 41.700864], [-87.545079, 41.700862], [-87.54508, 41.700859], [-87.545081, 41.700857], [-87.545082, 41.700854], [-87.545083, 41.700852], [-87.545084, 41.700849], [-87.545085, 41.700847], [-87.545086, 41.700844], [-87.545087, 41.700841], [-87.545088, 41.700839], [-87.545107, 41.700789], [-87.545125, 41.700739], [-87.54514, 41.700689], [-87.545154, 41.700638], [-87.545157, 41.700623], [-87.545158, 41.700623], [-87.545158, 41.700622], [-87.545166, 41.700588], [-87.545176, 41.700537], [-87.545184, 41.700485], [-87.545186, 41.700467], [-87.545187, 41.700465], [-87.545191, 41.700429], [-87.545198, 41.700372], [-87.545205, 41.700311], [-87.545205, 41.700311], [-87.545205, 41.70031], [-87.545205, 41.700309], [-87.545209, 41.700249], [-87.545211, 41.700188], [-87.545211, 41.700156], [-87.545211, 41.700155], [-87.545211, 41.700121], [-87.54521, 41.699582], [-87.545208, 41.699138], [-87.545207, 41.699021], [-87.545206, 41.698845], [-87.545205, 41.698688], [-87.545204, 41.698587], [-87.545203, 41.698409], [-87.545202, 41.698185], [-87.545197, 41.69751], [-87.545197, 41.697448], [-87.545197, 41.697408], [-87.545195, 41.697185], [-87.545193, 41.696852], [-87.545191, 41.696326], [-87.545191, 41.696252], [-87.54519, 41.695997], [-87.545189, 41.695867], [-87.545189, 41.695763], [-87.545188, 41.695645], [-87.545187, 41.695497], [-87.545186, 41.695433], [-87.545184, 41.695124], [-87.545177, 41.694085], [-87.545177, 41.694053], [-87.54518, 41.693704], [-87.545172, 41.693231], [-87.545171, 41.692707], [-87.54517, 41.692325], [-87.545171, 41.692095], [-87.545169, 41.692], [-87.545169, 41.691992], [-87.545169, 41.691923], [-87.545167, 41.691602], [-87.545167, 41.691496], [-87.545164, 41.690948], [-87.545162, 41.690667], [-87.545162, 41.690659], [-87.545159, 41.690252], [-87.545158, 41.689754], [-87.545156, 41.689476], [-87.545155, 41.689303], [-87.545152, 41.688818], [-87.545148, 41.688101], [-87.545144, 41.687373], [-87.545144, 41.687269], [-87.545142, 41.687075], [-87.54514, 41.686767], [-87.545131, 41.685519], [-87.545131, 41.685514], [-87.545129, 41.685254], [-87.545127, 41.684811], [-87.545124, 41.684453], [-87.545121, 41.683808], [-87.545117, 41.683354], [-87.545079, 41.681697], [-87.545062, 41.680959], [-87.543779, 41.680979], [-87.540104, 41.680949], [-87.540098, 41.680949], [-87.539994, 41.673962], [-87.539994, 41.67292], [-87.539907, 41.671834], [-87.539817, 41.671483], [-87.539674, 41.671117], [-87.539296, 41.670335], [-87.53917, 41.670025], [-87.539005, 41.669618], [-87.53886, 41.669075], [-87.538809, 41.668795], [-87.538795, 41.668641], [-87.538802, 41.668489], [-87.539005, 41.667533], [-87.539325, 41.666077], [-87.53979, 41.663883], [-87.539884, 41.663508], [-87.539919, 41.663299], [-87.539936, 41.663058], [-87.539936, 41.662341], [-87.539907, 41.661385], [-87.539907, 41.660147], [-87.539927, 41.659134], [-87.540475, 41.659135], [-87.54109, 41.659144], [-87.542366, 41.659143], [-87.543498, 41.659212], [-87.54471, 41.659222], [-87.545048, 41.660952], [-87.545068, 41.661059], [-87.545439, 41.662952], [-87.545624, 41.663897], [-87.545771, 41.66465], [-87.545877, 41.665192], [-87.545909, 41.665357], [-87.546133, 41.666503], [-87.546133, 41.666503], [-87.546173, 41.666708], [-87.546173, 41.666708], [-87.546448, 41.666703], [-87.547013, 41.666699], [-87.548283, 41.66669], [-87.549567, 41.666702], [-87.550278, 41.666703], [-87.550872, 41.666704], [-87.551762, 41.666706], [-87.552074, 41.666701], [-87.552804, 41.666644], [-87.553345, 41.666589], [-87.553701, 41.666537], [-87.554091, 41.666477], [-87.554248, 41.666456], [-87.554405, 41.666434], [-87.555627, 41.666243], [-87.556134, 41.666196], [-87.556523, 41.66618], [-87.55683, 41.666171], [-87.558056, 41.666158], [-87.558854, 41.666185], [-87.558876, 41.665543], [-87.558867, 41.664689], [-87.558871, 41.664386], [-87.558872, 41.663901], [-87.558875, 41.662861], [-87.558869, 41.662503], [-87.558866, 41.661923], [-87.558888, 41.661321], [-87.558955, 41.661026], [-87.559136, 41.660549], [-87.559207, 41.660258], [-87.559284, 41.659792], [-87.559284, 41.659792], [-87.559286, 41.659189], [-87.559286, 41.659189], [-87.558998, 41.659201], [-87.558756, 41.659208], [-87.558728, 41.659208], [-87.558071, 41.659198], [-87.558073, 41.658869], [-87.558073, 41.658537], [-87.558066, 41.658438], [-87.558053, 41.658336], [-87.558034, 41.658235], [-87.558006, 41.658149], [-87.558003, 41.65814], [-87.557962, 41.658063], [-87.557814, 41.657872], [-87.557728, 41.65779], [-87.557405, 41.657513], [-87.55722, 41.657357], [-87.556871, 41.657063], [-87.556827, 41.657026], [-87.556176, 41.656478], [-87.555651, 41.656042], [-87.555361, 41.6558], [-87.555126, 41.655605], [-87.554762, 41.655304], [-87.554427, 41.655031], [-87.55419, 41.654838], [-87.553775, 41.654508], [-87.553214, 41.654069], [-87.553212, 41.654068], [-87.553003, 41.653905], [-87.55286, 41.653793], [-87.552653, 41.653633], [-87.552182, 41.653268], [-87.551822, 41.652989], [-87.551428, 41.652697], [-87.551374, 41.652657], [-87.55107, 41.652436], [-87.55083, 41.652262], [-87.550362, 41.651921], [-87.550231, 41.651821], [-87.55003, 41.651666], [-87.549766, 41.651463], [-87.549585, 41.651325], [-87.549439, 41.651213], [-87.549058, 41.650915], [-87.549035, 41.650897], [-87.548721, 41.650651], [-87.548446, 41.650437], [-87.548229, 41.650269], [-87.547851, 41.649976], [-87.547472, 41.649682], [-87.547189, 41.649465], [-87.546688, 41.64908], [-87.546604, 41.649015], [-87.546338, 41.648807], [-87.545988, 41.648539], [-87.545817, 41.648407], [-87.545607, 41.648239], [-87.545492, 41.64815], [-87.545237, 41.647953], [-87.544874, 41.64767], [-87.5442, 41.647147], [-87.54413, 41.647093], [-87.54394, 41.646946], [-87.543734, 41.646783], [-87.543508, 41.646604], [-87.543502, 41.646599], [-87.543231, 41.646386], [-87.543119, 41.646298], [-87.542715, 41.645981], [-87.542416, 41.645752], [-87.542152, 41.64555], [-87.541908, 41.64536], [-87.541881, 41.645339], [-87.541608, 41.645126], [-87.541301, 41.644886], [-87.540944, 41.644614], [-87.540922, 41.644598], [-87.540851, 41.64456], [-87.541654, 41.644562], [-87.541807, 41.644562], [-87.542087, 41.644563], [-87.542145, 41.644564], [-87.54231, 41.644564], [-87.542482, 41.644565], [-87.542689, 41.644565], [-87.543196, 41.644566], [-87.549472, 41.644573], [-87.549803, 41.644573], [-87.551999, 41.64459], [-87.552986, 41.644597], [-87.558754, 41.644639], [-87.558881, 41.64464], [-87.559283, 41.644643], [-87.559284, 41.644643], [-87.559284, 41.644643], [-87.559316, 41.644644], [-87.559316, 41.644644], [-87.559318, 41.644644], [-87.56058, 41.644647], [-87.560924, 41.644648], [-87.561413, 41.644649], [-87.561742, 41.644654], [-87.56201, 41.644658], [-87.562254, 41.644662], [-87.562374, 41.644664], [-87.562433, 41.644664], [-87.562709, 41.644664], [-87.562715, 41.644664], [-87.56283, 41.644665], [-87.562896, 41.644665], [-87.563013, 41.644665], [-87.563071, 41.644665], [-87.563194, 41.644665], [-87.563378, 41.644666], [-87.563385, 41.644666], [-87.563527, 41.644666], [-87.563551, 41.644666], [-87.563551, 41.644666], [-87.563586, 41.644666], [-87.563754, 41.644666], [-87.563917, 41.644667], [-87.564039, 41.644667], [-87.564041, 41.644667], [-87.564186, 41.644667], [-87.564187, 41.644667], [-87.564283, 41.644667], [-87.564396, 41.644667], [-87.56464, 41.644668], [-87.564738, 41.644668], [-87.564763, 41.644668], [-87.564797, 41.644668], [-87.564837, 41.644668], [-87.565021, 41.644668], [-87.56518, 41.644669], [-87.565241, 41.644669], [-87.565252, 41.644669], [-87.565391, 41.644669], [-87.565494, 41.644669], [-87.56568, 41.64467], [-87.56595, 41.64467], [-87.566008, 41.64467], [-87.566236, 41.64467], [-87.56638, 41.644671], [-87.566434, 41.644671], [-87.566464, 41.644671], [-87.566573, 41.644671], [-87.566705, 41.644671], [-87.566841, 41.644671], [-87.567161, 41.644672], [-87.567219, 41.644672], [-87.567453, 41.644672], [-87.56758, 41.644673], [-87.567675, 41.644673], [-87.567806, 41.644673], [-87.567916, 41.644673], [-87.568209, 41.644674], [-87.56821, 41.644674], [-87.568372, 41.644674], [-87.568431, 41.644674], [-87.568547, 41.644674], [-87.568685, 41.644674], [-87.568742, 41.644675], [-87.568886, 41.644675], [-87.569128, 41.644675], [-87.569583, 41.644676], [-87.569642, 41.644676], [-87.570029, 41.644677], [-87.570098, 41.644677], [-87.570339, 41.644677], [-87.570795, 41.644678], [-87.570853, 41.644678], [-87.571264, 41.644679], [-87.571309, 41.644679], [-87.57155, 41.644679], [-87.572008, 41.64468], [-87.572059, 41.64468], [-87.572517, 41.644681], [-87.572581, 41.644681], [-87.572759, 41.644681], [-87.573217, 41.644682], [-87.573268, 41.644682], [-87.573682, 41.644683], [-87.573726, 41.644683], [-87.574868, 41.64468], [-87.574869, 41.64468], [-87.574869, 41.64468], [-87.574869, 41.64468], [-87.574869, 41.64468], [-87.57487, 41.64468], [-87.577251, 41.644709], [-87.578374, 41.644695], [-87.578377, 41.644695], [-87.578422, 41.645174], [-87.578446, 41.645518], [-87.578519, 41.645946], [-87.578575, 41.646254], [-87.578616, 41.646448], [-87.578677, 41.646699], [-87.578764, 41.64701], [-87.578834, 41.647248], [-87.578878, 41.64738], [-87.579182, 41.648161], [-87.579638, 41.649144], [-87.579792, 41.649405], [-87.580487, 41.650424], [-87.580559, 41.65052], [-87.580811, 41.650837], [-87.581047, 41.651117], [-87.581776, 41.651966], [-87.581859, 41.652062], [-87.582122, 41.652384], [-87.582741, 41.653084], [-87.58302, 41.653408], [-87.583386, 41.653835], [-87.58375, 41.654273], [-87.584684, 41.655366], [-87.584874, 41.655587], [-87.586273, 41.657217], [-87.586944, 41.65799], [-87.586978, 41.65803], [-87.586989, 41.658042], [-87.587029, 41.658089], [-87.587269, 41.658365], [-87.587651, 41.658806], [-87.588187, 41.659445], [-87.588325, 41.659609], [-87.588679, 41.660031], [-87.588881, 41.660258], [-87.589, 41.660392], [-87.58911, 41.660516], [-87.589336, 41.66077], [-87.589514, 41.66097], [-87.589693, 41.661172], [-87.59012, 41.661652], [-87.590534, 41.662157], [-87.590741, 41.66241], [-87.590809, 41.662488], [-87.591067, 41.662786], [-87.591635, 41.663435], [-87.591685, 41.663491], [-87.59172, 41.66353], [-87.592124, 41.663709], [-87.592339, 41.66396], [-87.592707, 41.664395], [-87.593203, 41.664966], [-87.59384, 41.665702], [-87.593955, 41.665837], [-87.594557, 41.66654], [-87.595346, 41.667455], [-87.595689, 41.66785], [-87.595883, 41.668073], [-87.595935, 41.668141], [-87.596065, 41.66829], [-87.596159, 41.668397], [-87.59626, 41.668513], [-87.596352, 41.668619], [-87.596451, 41.668732], [-87.596573, 41.668872], [-87.596633, 41.668941], [-87.596732, 41.669058], [-87.596796, 41.669135], [-87.596859, 41.669209], [-87.59696, 41.669328], [-87.597033, 41.669415], [-87.597112, 41.669508], [-87.597201, 41.669613], [-87.597237, 41.669656], [-87.597327, 41.669762], [-87.597424, 41.669878], [-87.597573, 41.670054], [-87.597645, 41.670137], [-87.597753, 41.670263], [-87.597833, 41.670356], [-87.597952, 41.670494], [-87.598045, 41.670603], [-87.598117, 41.670687], [-87.598222, 41.670809], [-87.598295, 41.670894], [-87.59836, 41.67097], [-87.598438, 41.671061], [-87.598516, 41.671152], [-87.598546, 41.671187], [-87.598617, 41.671256], [-87.598744, 41.671404], [-87.598826, 41.671499], [-87.598922, 41.671611], [-87.598998, 41.671699], [-87.599071, 41.671784], [-87.599126, 41.671847], [-87.599196, 41.671929], [-87.599272, 41.672018], [-87.599333, 41.672089], [-87.599372, 41.672134], [-87.599429, 41.6722], [-87.59948, 41.672259], [-87.599511, 41.672296], [-87.599574, 41.672368], [-87.59961, 41.672409], [-87.599674, 41.672484], [-87.599725, 41.672543], [-87.599796, 41.672625], [-87.599851, 41.672689], [-87.599878, 41.67272], [-87.599931, 41.672782], [-87.599967, 41.672823], [-87.600018, 41.672882], [-87.600068, 41.672941], [-87.600119, 41.673001], [-87.600195, 41.673091], [-87.600227, 41.673132], [-87.600277, 41.673196], [-87.60031, 41.673238], [-87.600388, 41.67334], [-87.600457, 41.673432], [-87.600517, 41.673517], [-87.600573, 41.673599], [-87.600621, 41.673669], [-87.600671, 41.673744], [-87.600741, 41.67385], [-87.600775, 41.673905], [-87.600853, 41.674033], [-87.600908, 41.674128], [-87.600954, 41.67421], [-87.601026, 41.674343], [-87.601066, 41.674422], [-87.601134, 41.674562], [-87.601209, 41.674723], [-87.601279, 41.674886], [-87.601306, 41.674968], [-87.601446, 41.675338], [-87.601544, 41.675667], [-87.601612, 41.675962], [-87.601657, 41.676196], [-87.601677, 41.676326], [-87.601686, 41.676384], [-87.601709, 41.676572], [-87.601723, 41.676727], [-87.601733, 41.676896], [-87.601751, 41.677662], [-87.601776, 41.678373], [-87.601796, 41.678985], [-87.60182, 41.679794], [-87.601836, 41.680353], [-87.601846, 41.680687], [-87.60186, 41.681348], [-87.601862, 41.681446], [-87.601868, 41.681654], [-87.601872, 41.681792], [-87.601873, 41.681833], [-87.601875, 41.681928], [-87.601877, 41.682282], [-87.601879, 41.682626], [-87.601882, 41.682674], [-87.601896, 41.682902], [-87.60191, 41.683173], [-87.60192, 41.683437], [-87.601932, 41.683808], [-87.601939, 41.684097], [-87.60194, 41.68417], [-87.601936, 41.684742], [-87.6019, 41.685062], [-87.601761, 41.68569], [-87.60172, 41.685837], [-87.601645, 41.686036], [-87.601623, 41.686087], [-87.601601, 41.686138], [-87.60158, 41.686187], [-87.60157, 41.686209], [-87.601565, 41.686221], [-87.601565, 41.686221], [-87.601565, 41.686221], [-87.601543, 41.686272], [-87.60152, 41.686325], [-87.601477, 41.686424], [-87.60145, 41.686486], [-87.601425, 41.686541], [-87.601368, 41.686667], [-87.60131, 41.686771], [-87.601032, 41.687312], [-87.601032, 41.687312], [-87.600951, 41.687468], [-87.600943, 41.687483], [-87.600818, 41.687723], [-87.600694, 41.687961], [-87.600693, 41.687963], [-87.600597, 41.688134], [-87.600595, 41.688138], [-87.600473, 41.688361], [-87.600342, 41.688602], [-87.600342, 41.688602], [-87.600296, 41.688677], [-87.600293, 41.688683], [-87.600293, 41.688683], [-87.60029, 41.688688], [-87.600083, 41.689089], [-87.59999, 41.689269], [-87.599959, 41.689327], [-87.599737, 41.68974], [-87.599737, 41.68974], [-87.599626, 41.689935], [-87.59953, 41.690106], [-87.59953, 41.690106], [-87.59945, 41.690246], [-87.599394, 41.690344], [-87.599175, 41.690733], [-87.599094, 41.690878], [-87.599085, 41.690895], [-87.599085, 41.690895], [-87.598856, 41.691309], [-87.598709, 41.691601], [-87.598452, 41.692078], [-87.598348, 41.69227], [-87.598306, 41.69234], [-87.59829, 41.692368], [-87.598239, 41.692465], [-87.598041, 41.692835], [-87.59792, 41.693061], [-87.597524, 41.693793], [-87.597247, 41.694309], [-87.597006, 41.694781], [-87.59697, 41.694851], [-87.596798, 41.695176], [-87.596751, 41.695259], [-87.596604, 41.695521], [-87.596406, 41.695873], [-87.596167, 41.696318], [-87.595707, 41.696957], [-87.594823, 41.698287], [-87.594777, 41.69836], [-87.59475, 41.698397], [-87.594366, 41.698976], [-87.594159, 41.699201], [-87.593688, 41.69979], [-87.593325, 41.700202], [-87.593133, 41.700419], [-87.59307, 41.700489], [-87.592878, 41.700703], [-87.592717, 41.700881], [-87.59257, 41.701036], [-87.592411, 41.701199], [-87.592225, 41.701389], [-87.592054, 41.701561], [-87.591864, 41.701747], [-87.591634, 41.701964], [-87.591393, 41.70219], [-87.591226, 41.702347], [-87.590991, 41.702567], [-87.590797, 41.702747], [-87.59039, 41.703127], [-87.590028, 41.703465], [-87.589684, 41.703786], [-87.589584, 41.703879], [-87.58938, 41.70406], [-87.589177, 41.704241], [-87.589013, 41.704384], [-87.588647, 41.704707], [-87.58836, 41.704961], [-87.588143, 41.705112], [-87.588117, 41.705184], [-87.587845, 41.705936], [-87.587668, 41.706425], [-87.587506, 41.706673], [-87.587413, 41.706908], [-87.587341, 41.707167], [-87.587315, 41.707312], [-87.587296, 41.707559], [-87.587299, 41.707689], [-87.5873, 41.707747], [-87.586604, 41.707763], [-87.586047, 41.70777], [-87.585889, 41.707772], [-87.585746, 41.707774], [-87.58571, 41.707828], [-87.585641, 41.707934], [-87.585577, 41.708032], [-87.585523, 41.708118], [-87.585425, 41.708291], [-87.58541, 41.708322], [-87.585256, 41.708616], [-87.585189, 41.708771], [-87.585086, 41.709013], [-87.58503, 41.709168], [-87.584938, 41.709418], [-87.584931, 41.709442], [-87.584829, 41.709815], [-87.584737, 41.71029], [-87.584686, 41.7107], [-87.584628, 41.71125], [-87.58463, 41.711273], [-87.584662, 41.711791], [-87.584683, 41.712491], [-87.584679, 41.713296], [-87.584681, 41.713317], [-87.584684, 41.713607], [-87.584702, 41.713695], [-87.584737, 41.714295], [-87.584751, 41.714641], [-87.584754, 41.714725], [-87.584759, 41.714849], [-87.584765, 41.715019], [-87.584766, 41.715035], [-87.584777, 41.715317], [-87.584819, 41.716027], [-87.584827, 41.716222], [-87.58483, 41.716426], [-87.584836, 41.716576], [-87.584844, 41.716738], [-87.584848, 41.716811], [-87.584863, 41.717087], [-87.584881, 41.717381], [-87.584891, 41.717626], [-87.5849, 41.717907], [-87.584891, 41.718266], [-87.584889, 41.718319], [-87.584899, 41.718443], [-87.584908, 41.718656], [-87.58491, 41.718732], [-87.584917, 41.719007], [-87.584926, 41.719285], [-87.584927, 41.719323], [-87.584933, 41.719554], [-87.584937, 41.719907], [-87.584944, 41.720129], [-87.584946, 41.720175], [-87.584948, 41.720249], [-87.584948, 41.720249], [-87.58495, 41.720314], [-87.584952, 41.720361], [-87.584955, 41.720448], [-87.584961, 41.72063], [-87.584963, 41.720685], [-87.585073, 41.720778], [-87.58513, 41.720827], [-87.585166, 41.72086], [-87.585277, 41.720963], [-87.585361, 41.721038], [-87.585467, 41.721132], [-87.585648, 41.721325], [-87.585909, 41.721581], [-87.586104, 41.721764], [-87.586282, 41.72192], [-87.586512, 41.72213], [-87.586652, 41.722257], [-87.586707, 41.722321], [-87.579002, 41.722423], [-87.57899, 41.721991], [-87.578988, 41.721906], [-87.578983, 41.721677], [-87.578977, 41.721394], [-87.57897, 41.721111], [-87.578964, 41.720942], [-87.578954, 41.720799], [-87.57895, 41.720749], [-87.57895, 41.720748], [-87.578945, 41.720731], [-87.57917, 41.72073], [-87.579154, 41.720248], [-87.579148, 41.720087], [-87.578813, 41.719708], [-87.578185, 41.719023], [-87.57763, 41.718399], [-87.576995, 41.717713], [-87.576418, 41.717053], [-87.575326, 41.715847], [-87.573717, 41.71406], [-87.572913, 41.713154], [-87.571406, 41.711504], [-87.569966, 41.709866], [-87.568727, 41.708453], [-87.568728, 41.708037], [-87.568134, 41.708046], [-87.568128, 41.707614], [-87.56752, 41.707616], [-87.567512, 41.707188], [-87.567474, 41.707095], [-87.567025, 41.706644], [-87.566781, 41.706355], [-87.566717, 41.706316], [-87.566632, 41.706315], [-87.566641, 41.706096], [-87.566301, 41.705748], [-87.565678, 41.705264], [-87.565672, 41.704907], [-87.56567, 41.704694], [-87.565667, 41.704653], [-87.565663, 41.704639], [-87.565656, 41.704625], [-87.565653, 41.704621], [-87.565646, 41.70461], [-87.565655, 41.704607], [-87.565657, 41.704606], [-87.56566, 41.704605], [-87.565662, 41.704604], [-87.565665, 41.704603], [-87.565667, 41.704602], [-87.56567, 41.704601], [-87.565672, 41.7046], [-87.565674, 41.704599], [-87.565677, 41.704598], [-87.565679, 41.704596], [-87.565681, 41.704595], [-87.565684, 41.704594], [-87.565686, 41.704592], [-87.565688, 41.704591], [-87.56569, 41.70459], [-87.565692, 41.704588], [-87.565694, 41.704587], [-87.565696, 41.704585], [-87.565698, 41.704584], [-87.5657, 41.704582], [-87.565702, 41.704581], [-87.565704, 41.704579], [-87.565706, 41.704578], [-87.565708, 41.704576], [-87.56571, 41.704575], [-87.565712, 41.704573], [-87.565713, 41.704571], [-87.565715, 41.70457], [-87.565717, 41.704568], [-87.565718, 41.704566], [-87.56572, 41.704564], [-87.565721, 41.704563], [-87.565723, 41.704561], [-87.565724, 41.704559], [-87.565726, 41.704557], [-87.565727, 41.704555], [-87.565728, 41.704553], [-87.56573, 41.704551], [-87.565731, 41.70455], [-87.565732, 41.704548], [-87.565733, 41.704546], [-87.565734, 41.704544], [-87.565735, 41.704542], [-87.565736, 41.70454], [-87.565737, 41.704538], [-87.565738, 41.704536], [-87.565739, 41.704534], [-87.56574, 41.704532], [-87.565741, 41.70453], [-87.565741, 41.704528], [-87.565742, 41.704526], [-87.565743, 41.704524], [-87.565743, 41.704521], [-87.565744, 41.704519], [-87.565744, 41.704517], [-87.565745, 41.704515], [-87.565745, 41.704513], [-87.565745, 41.704511], [-87.565746, 41.704509], [-87.565746, 41.704507], [-87.565746, 41.704505], [-87.565746, 41.704503], [-87.565746, 41.7045], [-87.565746, 41.704498], [-87.565746, 41.704496], [-87.565746, 41.704494], [-87.565746, 41.704492], [-87.565746, 41.70449], [-87.565746, 41.704488], [-87.565746, 41.704486], [-87.565745, 41.704483], [-87.565745, 41.704481], [-87.565745, 41.704479], [-87.565744, 41.704477], [-87.565744, 41.704475], [-87.565743, 41.704473], [-87.565742, 41.704471], [-87.565742, 41.704469], [-87.565741, 41.704467], [-87.56574, 41.704465], [-87.56574, 41.704463], [-87.565738, 41.704459], [-87.565719, 41.702989], [-87.565763, 41.701796], [-87.563392, 41.698069], [-87.563366, 41.698051], [-87.563316, 41.698035], [-87.563165, 41.698022], [-87.563164, 41.697957], [-87.563161, 41.697788], [-87.563159, 41.697768], [-87.562345, 41.695504], [-87.559512, 41.695541], [-87.559272, 41.69552], [-87.559283, 41.696245], [-87.559295, 41.697086], [-87.559303, 41.697804], [-87.559313, 41.698463], [-87.559318, 41.6989], [-87.559321, 41.699304], [-87.559323, 41.699376], [-87.559322, 41.699449], [-87.559319, 41.699521], [-87.559313, 41.699593], [-87.559305, 41.699666], [-87.559295, 41.699738], [-87.559287, 41.699798], [-87.559278, 41.699858], [-87.559267, 41.699918], [-87.559254, 41.699978], [-87.55924, 41.700038], [-87.559223, 41.700097], [-87.559205, 41.700156], [-87.559185, 41.700215], [-87.559017, 41.700701], [-87.558851, 41.701188], [-87.558826, 41.701253], [-87.558799, 41.701319], [-87.55877, 41.701384], [-87.558739, 41.701448], [-87.558706, 41.701512], [-87.558671, 41.701575], [-87.558557, 41.701898], [-87.558475, 41.702131], [-87.558386, 41.702385], [-87.558367, 41.702442], [-87.558345, 41.702499], [-87.558321, 41.702555], [-87.558295, 41.702611], [-87.558267, 41.702666], [-87.558237, 41.70272], [-87.558205, 41.702774], [-87.55817, 41.702827], [-87.558139, 41.702882], [-87.558105, 41.702936], [-87.55807, 41.70299], [-87.558033, 41.703042], [-87.557994, 41.703094], [-87.55798, 41.703113], [-87.557954, 41.703146], [-87.557911, 41.703196], [-87.557867, 41.703246], [-87.557805, 41.703317], [-87.55774, 41.703388], [-87.557673, 41.703458], [-87.557605, 41.703526], [-87.557534, 41.703593], [-87.557481, 41.703642], [-87.557462, 41.70366], [-87.557441, 41.703678], [-87.557388, 41.703725], [-87.557311, 41.703789], [-87.557234, 41.703846], [-87.557156, 41.703903], [-87.557075, 41.703958], [-87.556993, 41.704012], [-87.55691, 41.704065], [-87.556825, 41.704116], [-87.55625, 41.704441], [-87.556006, 41.704579], [-87.55576, 41.704714], [-87.555511, 41.704847], [-87.555261, 41.704978], [-87.555091, 41.705089], [-87.554919, 41.705199], [-87.554746, 41.705307], [-87.554572, 41.705414], [-87.554486, 41.705482], [-87.554402, 41.705552], [-87.55432, 41.705622], [-87.554239, 41.705693], [-87.553911, 41.705962], [-87.553395, 41.706419], [-87.553192, 41.706619], [-87.553109, 41.706706], [-87.553027, 41.706794], [-87.552947, 41.706883], [-87.552869, 41.706973], [-87.552792, 41.707063], [-87.552717, 41.707155], [-87.552681, 41.707208], [-87.552609, 41.7073], [-87.55254, 41.707393], [-87.552472, 41.707487], [-87.552405, 41.707582], [-87.552353, 41.707659], [-87.552341, 41.707677], [-87.552278, 41.707773], [-87.552209, 41.707878], [-87.552143, 41.707983], [-87.552079, 41.70809], [-87.552018, 41.708197], [-87.551959, 41.708305], [-87.551902, 41.708414], [-87.551852, 41.708517], [-87.551804, 41.708621], [-87.551756, 41.708725], [-87.551711, 41.708829], [-87.551666, 41.708934], [-87.551662, 41.708945], [-87.551624, 41.70904], [-87.551476, 41.709407], [-87.551177, 41.710158], [-87.550993, 41.710628], [-87.550325, 41.712303], [-87.550076, 41.712922], [-87.550073, 41.712928], [-87.549996, 41.713125], [-87.5499, 41.713371], [-87.549893, 41.71339], [-87.549753, 41.713747], [-87.549643, 41.714026], [-87.54953, 41.714289], [-87.549335, 41.714706], [-87.549215, 41.714994], [-87.549109, 41.715272], [-87.548944, 41.71569], [-87.548905, 41.715787], [-87.548665, 41.716388], [-87.548562, 41.716658], [-87.548418, 41.717059], [-87.548239, 41.717493], [-87.548082, 41.717882], [-87.54791, 41.718287], [-87.547775, 41.718622], [-87.547648, 41.718928], [-87.547542, 41.719204], [-87.547417, 41.719491], [-87.547324, 41.719726], [-87.54725, 41.71989], [-87.547152, 41.720073], [-87.547093, 41.720163], [-87.547077, 41.720201], [-87.547075, 41.720208], [-87.547056, 41.720255], [-87.547019, 41.720347], [-87.546982, 41.720439], [-87.546945, 41.720532], [-87.546931, 41.72058], [-87.546922, 41.72061], [-87.546915, 41.720632], [-87.546889, 41.720724], [-87.546921, 41.72076], [-87.547019, 41.720838], [-87.547084, 41.720901], [-87.547166, 41.720989], [-87.547315, 41.721131], [-87.547482, 41.72129], [-87.54769, 41.721513], [-87.547916, 41.721749], [-87.548055, 41.721901], [-87.548258, 41.722127], [-87.548411, 41.722286], [-87.548512, 41.722399], [-87.548651, 41.72254], [-87.548876, 41.722778], [-87.548876, 41.722778], [-87.548765, 41.722778], [-87.548662, 41.722778], [-87.548559, 41.722777], [-87.548475, 41.722772], [-87.548326, 41.722761], [-87.548225, 41.722754], [-87.548178, 41.722754], [-87.548051, 41.722754], [-87.547908, 41.722753], [-87.547852, 41.722753], [-87.547723, 41.722754], [-87.547637, 41.722755], [-87.547619, 41.722755], [-87.547569, 41.722756], [-87.547504, 41.722756], [-87.547415, 41.722757], [-87.546878, 41.722761], [-87.546863, 41.722761], [-87.546577, 41.722764], [-87.546544, 41.722764], [-87.546484, 41.722766], [-87.54646, 41.722767], [-87.546405, 41.722769], [-87.546328, 41.722771], [-87.545998, 41.722789], [-87.545677, 41.722821]]], [[[-87.57238, 41.713423], [-87.572376, 41.713429], [-87.57237, 41.713423], [-87.572364, 41.713417], [-87.57238, 41.713423]]]]}, \"properties\": {\"id\": 1024497067, \"name\": \"Lake Calumet Industrial District\", \"bounding_box\": \"[-87.60194049635648, 41.64456016060143, -87.53879521147266, 41.72286345892378]\"}}]'"
      ]
     },
     "execution_count": 20,
     "metadata": {},
     "output_type": "execute_result"
    }
   ],
   "execution_count": 20
  },
  {
   "metadata": {
    "ExecuteTime": {
     "end_time": "2024-07-17T20:12:29.169888Z",
     "start_time": "2024-07-17T20:12:29.168538Z"
    }
   },
   "cell_type": "code",
   "source": "",
   "id": "904a38e71f2568a",
   "outputs": [],
   "execution_count": 16
  },
  {
   "metadata": {
    "ExecuteTime": {
     "end_time": "2024-07-17T20:12:29.784218Z",
     "start_time": "2024-07-17T20:12:29.782762Z"
    }
   },
   "cell_type": "code",
   "source": "",
   "id": "4195cde10d0c16d0",
   "outputs": [],
   "execution_count": 16
  },
  {
   "metadata": {
    "ExecuteTime": {
     "end_time": "2024-07-17T20:12:30.320679Z",
     "start_time": "2024-07-17T20:12:30.319260Z"
    }
   },
   "cell_type": "code",
   "source": "",
   "id": "d5a2a7c244f66bf1",
   "outputs": [],
   "execution_count": 16
  },
  {
   "metadata": {},
   "cell_type": "code",
   "outputs": [],
   "execution_count": null,
   "source": "",
   "id": "809e2b2ed695032b"
  }
 ],
 "metadata": {
  "kernelspec": {
   "display_name": "Python 3",
   "language": "python",
   "name": "python3"
  },
  "language_info": {
   "codemirror_mode": {
    "name": "ipython",
    "version": 2
   },
   "file_extension": ".py",
   "mimetype": "text/x-python",
   "name": "python",
   "nbconvert_exporter": "python",
   "pygments_lexer": "ipython2",
   "version": "2.7.6"
  }
 },
 "nbformat": 4,
 "nbformat_minor": 5
}
