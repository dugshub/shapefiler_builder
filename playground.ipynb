{
 "cells": [
  {
   "cell_type": "code",
   "id": "initial_id",
   "metadata": {
    "collapsed": true,
    "ExecuteTime": {
     "end_time": "2024-07-18T23:31:55.382822Z",
     "start_time": "2024-07-18T23:31:53.723377Z"
    }
   },
   "source": [
    "from config import db,app\n",
    "from models import Shapefile\n",
    "from sqlalchemy import select\n"
   ],
   "outputs": [],
   "execution_count": 1
  },
  {
   "metadata": {
    "ExecuteTime": {
     "end_time": "2024-07-18T23:31:57.203829Z",
     "start_time": "2024-07-18T23:31:57.197328Z"
    }
   },
   "cell_type": "code",
   "source": [
    "\n",
    "with app.app_context():\n",
    "    stmt = select(Shapefile).where(Shapefile.shape_type == 'locality')\n",
    "    markets = db.session.execute(stmt).scalars().all()"
   ],
   "id": "2968933bca392f03",
   "outputs": [],
   "execution_count": 2
  },
  {
   "metadata": {
    "ExecuteTime": {
     "end_time": "2024-07-18T23:31:58.769919Z",
     "start_time": "2024-07-18T23:31:58.767828Z"
    }
   },
   "cell_type": "code",
   "source": "nyc = markets[6]",
   "id": "823e36605cf5c37c",
   "outputs": [],
   "execution_count": 3
  },
  {
   "metadata": {
    "ExecuteTime": {
     "end_time": "2024-07-18T23:32:10.989906Z",
     "start_time": "2024-07-18T23:32:10.987302Z"
    }
   },
   "cell_type": "code",
   "source": "nyc.geometry",
   "id": "650a3e93d998d2b7",
   "outputs": [],
   "execution_count": 6
  },
  {
   "metadata": {},
   "cell_type": "code",
   "outputs": [],
   "execution_count": null,
   "source": "",
   "id": "6c2980d96383d51c"
  }
 ],
 "metadata": {
  "kernelspec": {
   "display_name": "Python 3",
   "language": "python",
   "name": "python3"
  },
  "language_info": {
   "codemirror_mode": {
    "name": "ipython",
    "version": 2
   },
   "file_extension": ".py",
   "mimetype": "text/x-python",
   "name": "python",
   "nbconvert_exporter": "python",
   "pygments_lexer": "ipython2",
   "version": "2.7.6"
  }
 },
 "nbformat": 4,
 "nbformat_minor": 5
}
