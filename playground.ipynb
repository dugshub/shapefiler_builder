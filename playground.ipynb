{
 "cells": [
  {
   "cell_type": "code",
   "id": "initial_id",
   "metadata": {
    "collapsed": true,
    "ExecuteTime": {
     "end_time": "2024-07-19T00:42:05.340305Z",
     "start_time": "2024-07-19T00:42:03.581881Z"
    }
   },
   "source": [
    "from config import db,app\n",
    "from models import Shapefile\n",
    "from sqlalchemy import select\n",
    "from random import randrange\n",
    "import shapefile    "
   ],
   "outputs": [],
   "execution_count": 1
  },
  {
   "metadata": {
    "ExecuteTime": {
     "end_time": "2024-07-19T00:42:05.877443Z",
     "start_time": "2024-07-19T00:42:05.871886Z"
    }
   },
   "cell_type": "code",
   "source": [
    "\n",
    "with app.app_context():\n",
    "    stmt = select(Shapefile).where(Shapefile.shape_type == 'locality')\n",
    "    markets = db.session.execute(stmt).scalars().all()"
   ],
   "id": "2968933bca392f03",
   "outputs": [],
   "execution_count": 2
  },
  {
   "metadata": {
    "ExecuteTime": {
     "end_time": "2024-07-19T00:42:07.713925Z",
     "start_time": "2024-07-19T00:42:07.712287Z"
    }
   },
   "cell_type": "code",
   "source": "",
   "id": "823e36605cf5c37c",
   "outputs": [],
   "execution_count": 2
  },
  {
   "metadata": {
    "ExecuteTime": {
     "end_time": "2024-07-19T00:42:08.296151Z",
     "start_time": "2024-07-19T00:42:08.292561Z"
    }
   },
   "cell_type": "code",
   "source": [
    "markets = [market.id for market in markets]\n",
    "markets"
   ],
   "id": "650a3e93d998d2b7",
   "outputs": [
    {
     "data": {
      "text/plain": [
       "[85922583,\n",
       " 85923517,\n",
       " 85931779,\n",
       " 85933669,\n",
       " 85940195,\n",
       " 85950361,\n",
       " 85977539,\n",
       " 101730401]"
      ]
     },
     "execution_count": 3,
     "metadata": {},
     "output_type": "execute_result"
    }
   ],
   "execution_count": 3
  },
  {
   "metadata": {
    "ExecuteTime": {
     "end_time": "2024-07-19T00:42:36.041780Z",
     "start_time": "2024-07-19T00:42:36.036900Z"
    }
   },
   "cell_type": "code",
   "source": "neighbourhoods = shapefile.get_neighbourhoods_by_locality_id(8592222583)",
   "id": "4887fa1f5c6293dd",
   "outputs": [],
   "execution_count": 15
  },
  {
   "metadata": {
    "ExecuteTime": {
     "end_time": "2024-07-19T00:42:36.296847Z",
     "start_time": "2024-07-19T00:42:36.293125Z"
    }
   },
   "cell_type": "code",
   "source": "neighbourhoods",
   "id": "9d5e1f5bd947d7eb",
   "outputs": [
    {
     "data": {
      "text/plain": [
       "[Shapefile(id=85802425, name='Adams Morgan', shape_type='neighbourhood', parent_id='85931779'),\n",
       " Shapefile(id=85803065, name='Anacostia', shape_type='neighbourhood', parent_id='85931779'),\n",
       " Shapefile(id=85804627, name='Giesboro', shape_type='neighbourhood', parent_id='85931779'),\n",
       " Shapefile(id=85805519, name='Bellevue', shape_type='neighbourhood', parent_id='85931779'),\n",
       " Shapefile(id=85806453, name='Bloomingdale', shape_type='neighbourhood', parent_id='85931779'),\n",
       " Shapefile(id=85807263, name='Brentwood', shape_type='neighbourhood', parent_id='85931779'),\n",
       " Shapefile(id=85807587, name='Brightwood', shape_type='neighbourhood', parent_id='85931779'),\n",
       " Shapefile(id=85807839, name='Brookland', shape_type='neighbourhood', parent_id='85931779'),\n",
       " Shapefile(id=85808499, name='Burleith', shape_type='neighbourhood', parent_id='85931779'),\n",
       " Shapefile(id=85808693, name='Buzzard Point', shape_type='neighbourhood', parent_id='85931779'),\n",
       " Shapefile(id=85809405, name='Capitol Hill', shape_type='neighbourhood', parent_id='85931779'),\n",
       " Shapefile(id=85809813, name='Cathedral Heights', shape_type='neighbourhood', parent_id='85931779'),\n",
       " Shapefile(id=85811333, name='Cleveland Park', shape_type='neighbourhood', parent_id='85931779'),\n",
       " Shapefile(id=85811455, name='Park Place', shape_type='neighbourhood', parent_id='85931779'),\n",
       " Shapefile(id=85811979, name='Columbia Heights', shape_type='neighbourhood', parent_id='85931779'),\n",
       " Shapefile(id=85812073, name='Congress Heights', shape_type='neighbourhood', parent_id='85931779'),\n",
       " Shapefile(id=85812945, name='Crestwood', shape_type='neighbourhood', parent_id='85931779'),\n",
       " Shapefile(id=85817253, name='Eckington', shape_type='neighbourhood', parent_id='85931779'),\n",
       " Shapefile(id=85817535, name='Edgewood', shape_type='neighbourhood', parent_id='85931779'),\n",
       " Shapefile(id=85818549, name='Fairlawn', shape_type='neighbourhood', parent_id='85931779'),\n",
       " Shapefile(id=85819723, name='Foggy Bottom', shape_type='neighbourhood', parent_id='85931779'),\n",
       " Shapefile(id=85819901, name='Van Ness', shape_type='neighbourhood', parent_id='85931779'),\n",
       " Shapefile(id=85820137, name='Fort Lincoln', shape_type='neighbourhood', parent_id='85931779'),\n",
       " Shapefile(id=85820473, name='Berkley', shape_type='neighbourhood', parent_id='85931779'),\n",
       " Shapefile(id=85821245, name='Gateway', shape_type='neighbourhood', parent_id='85931779'),\n",
       " Shapefile(id=85821305, name='Georgetown', shape_type='neighbourhood', parent_id='85931779'),\n",
       " Shapefile(id=85827193, name='Ivy City', shape_type='neighbourhood', parent_id='85931779'),\n",
       " Shapefile(id=85827755, name='Kalorama Triangle', shape_type='neighbourhood', parent_id='85931779'),\n",
       " Shapefile(id=85828019, name='Kenilworth', shape_type='neighbourhood', parent_id='85931779'),\n",
       " Shapefile(id=85828105, name='Kent', shape_type='neighbourhood', parent_id='85931779'),\n",
       " Shapefile(id=85829743, name='Langdon', shape_type='neighbourhood', parent_id='85931779'),\n",
       " Shapefile(id=85831207, name='Logan Circle', shape_type='neighbourhood', parent_id='85931779'),\n",
       " Shapefile(id=85832623, name='Marshall Heights', shape_type='neighbourhood', parent_id='85931779'),\n",
       " Shapefile(id=85832855, name='Massachusetts Avenue Heights', shape_type='neighbourhood', parent_id='85931779'),\n",
       " Shapefile(id=85833001, name='Mayfair', shape_type='neighbourhood', parent_id='85931779'),\n",
       " Shapefile(id=85835611, name='Mount Pleasant', shape_type='neighbourhood', parent_id='85931779'),\n",
       " Shapefile(id=85835751, name='Mount Vernon Square', shape_type='neighbourhood', parent_id='85931779'),\n",
       " Shapefile(id=85838397, name='Northwest Rectangle', shape_type='neighbourhood', parent_id='85931779'),\n",
       " Shapefile(id=85840615, name='Park View', shape_type='neighbourhood', parent_id='85931779'),\n",
       " Shapefile(id=85841475, name='Petworth', shape_type='neighbourhood', parent_id='85931779'),\n",
       " Shapefile(id=85842925, name='Potomac Heights', shape_type='neighbourhood', parent_id='85931779'),\n",
       " Shapefile(id=85844785, name='River Terrace', shape_type='neighbourhood', parent_id='85931779'),\n",
       " Shapefile(id=85845953, name='Rosedale-Kingman Park', shape_type='neighbourhood', parent_id='85931779'),\n",
       " Shapefile(id=85848053, name='Shaw', shape_type='neighbourhood', parent_id='85931779'),\n",
       " Shapefile(id=85848253, name='Sheridan-Kalorama', shape_type='neighbourhood', parent_id='85931779'),\n",
       " Shapefile(id=85848445, name='Shipley', shape_type='neighbourhood', parent_id='85931779'),\n",
       " Shapefile(id=85851929, name='Tenleytown', shape_type='neighbourhood', parent_id='85931779'),\n",
       " Shapefile(id=85852659, name='Trinidad', shape_type='neighbourhood', parent_id='85931779'),\n",
       " Shapefile(id=85852739, name='Truxton Circle', shape_type='neighbourhood', parent_id='85931779'),\n",
       " Shapefile(id=85853145, name='University Heights', shape_type='neighbourhood', parent_id='85931779'),\n",
       " Shapefile(id=85855417, name='West End', shape_type='neighbourhood', parent_id='85931779'),\n",
       " Shapefile(id=85858903, name='Woodridge', shape_type='neighbourhood', parent_id='85931779'),\n",
       " Shapefile(id=85866027, name='Southwest Waterfront', shape_type='neighbourhood', parent_id='85931779'),\n",
       " Shapefile(id=85866031, name='Dupont Circle', shape_type='neighbourhood', parent_id='85931779'),\n",
       " Shapefile(id=85866033, name='Downtown', shape_type='neighbourhood', parent_id='85931779'),\n",
       " Shapefile(id=85866875, name='Cardozo', shape_type='neighbourhood', parent_id='85931779'),\n",
       " Shapefile(id=85866877, name='Union Station', shape_type='neighbourhood', parent_id='85931779'),\n",
       " Shapefile(id=85868417, name='Fort Lesley J Mcnair', shape_type='neighbourhood', parent_id='85931779'),\n",
       " Shapefile(id=85869083, name='Arboretum', shape_type='neighbourhood', parent_id='85931779'),\n",
       " Shapefile(id=85869339, name='Hillandale', shape_type='neighbourhood', parent_id='85931779'),\n",
       " Shapefile(id=85869341, name='Hillbrook', shape_type='neighbourhood', parent_id='85931779'),\n",
       " Shapefile(id=85869515, name='Navy Yard', shape_type='neighbourhood', parent_id='85931779'),\n",
       " Shapefile(id=85869517, name='Near Northeast', shape_type='neighbourhood', parent_id='85931779'),\n",
       " Shapefile(id=85869519, name='Near Southeast', shape_type='neighbourhood', parent_id='85931779'),\n",
       " Shapefile(id=85869535, name='NoMa', shape_type='neighbourhood', parent_id='85931779'),\n",
       " Shapefile(id=85869563, name='Observatory Circle', shape_type='neighbourhood', parent_id='85931779'),\n",
       " Shapefile(id=85869589, name='Pleasant Plains', shape_type='neighbourhood', parent_id='85931779'),\n",
       " Shapefile(id=85869683, name='Southwest Federal Center', shape_type='neighbourhood', parent_id='85931779'),\n",
       " Shapefile(id=85869701, name='St Elizabeths Hospital', shape_type='neighbourhood', parent_id='85931779'),\n",
       " Shapefile(id=85869707, name='Stronghold', shape_type='neighbourhood', parent_id='85931779'),\n",
       " Shapefile(id=85869825, name='Woodland-Normanstone Terrace', shape_type='neighbourhood', parent_id='85931779'),\n",
       " Shapefile(id=85869835, name='16th Street Heights', shape_type='neighbourhood', parent_id='85931779'),\n",
       " Shapefile(id=85896095, name='Mount Vernon Triangle', shape_type='neighbourhood', parent_id='85931779'),\n",
       " Shapefile(id=85931779, name='Washington', shape_type='locality', parent_id='85931779'),\n",
       " Shapefile(id=420510931, name='Randle Highlands', shape_type='neighbourhood', parent_id='85931779'),\n",
       " Shapefile(id=420510935, name='Glover Park', shape_type='neighbourhood', parent_id='85931779'),\n",
       " Shapefile(id=420510939, name='Greenway', shape_type='neighbourhood', parent_id='85931779'),\n",
       " Shapefile(id=420510943, name='Woodland', shape_type='neighbourhood', parent_id='85931779'),\n",
       " Shapefile(id=420510945, name='Colony Hill', shape_type='neighbourhood', parent_id='85931779'),\n",
       " Shapefile(id=420510947, name='Wesley Heights', shape_type='neighbourhood', parent_id='85931779'),\n",
       " Shapefile(id=420510949, name='The Palisades', shape_type='neighbourhood', parent_id='85931779'),\n",
       " Shapefile(id=420510953, name='Capitol View', shape_type='neighbourhood', parent_id='85931779'),\n",
       " Shapefile(id=420510955, name='Pleasant Hill', shape_type='neighbourhood', parent_id='85931779'),\n",
       " Shapefile(id=420510957, name='American University Park', shape_type='neighbourhood', parent_id='85931779'),\n",
       " Shapefile(id=420510961, name='Ledroit Park', shape_type='neighbourhood', parent_id='85931779'),\n",
       " Shapefile(id=420510963, name='Twining', shape_type='neighbourhood', parent_id='85931779'),\n",
       " Shapefile(id=420510965, name='Skyland', shape_type='neighbourhood', parent_id='85931779'),\n",
       " Shapefile(id=420510973, name='Douglass', shape_type='neighbourhood', parent_id='85931779'),\n",
       " Shapefile(id=420510975, name='Spring Valley', shape_type='neighbourhood', parent_id='85931779'),\n",
       " Shapefile(id=420510977, name='Benning', shape_type='neighbourhood', parent_id='85931779'),\n",
       " Shapefile(id=420510979, name='Benning Ridge', shape_type='neighbourhood', parent_id='85931779'),\n",
       " Shapefile(id=420510991, name='Buena Vista', shape_type='neighbourhood', parent_id='85931779'),\n",
       " Shapefile(id=420510993, name='Penn Branch', shape_type='neighbourhood', parent_id='85931779'),\n",
       " Shapefile(id=420510997, name='Foxhall Village', shape_type='neighbourhood', parent_id='85931779'),\n",
       " Shapefile(id=420510999, name='Fort Stanton', shape_type='neighbourhood', parent_id='85931779'),\n",
       " Shapefile(id=420511001, name='Fort Totten', shape_type='neighbourhood', parent_id='85931779'),\n",
       " Shapefile(id=420511009, name='Benning Heights', shape_type='neighbourhood', parent_id='85931779'),\n",
       " Shapefile(id=420511015, name='Knox Hill', shape_type='neighbourhood', parent_id='85931779'),\n",
       " Shapefile(id=420511017, name='Garfield Heights', shape_type='neighbourhood', parent_id='85931779'),\n",
       " Shapefile(id=420781727, name='North Cleveland Park', shape_type='neighbourhood', parent_id='85931779'),\n",
       " Shapefile(id=420781731, name='Woodley Park', shape_type='neighbourhood', parent_id='85931779'),\n",
       " Shapefile(id=420781737, name='Brightwood Park', shape_type='neighbourhood', parent_id='85931779'),\n",
       " Shapefile(id=420781739, name='Manor Park', shape_type='neighbourhood', parent_id='85931779'),\n",
       " Shapefile(id=420781745, name='Shepherd Park', shape_type='neighbourhood', parent_id='85931779'),\n",
       " Shapefile(id=420781747, name='North Portal Estates', shape_type='neighbourhood', parent_id='85931779'),\n",
       " Shapefile(id=420781749, name='Colonial Village', shape_type='neighbourhood', parent_id='85931779'),\n",
       " Shapefile(id=420781751, name='North Michigan Park', shape_type='neighbourhood', parent_id='85931779'),\n",
       " Shapefile(id=420781753, name='Michigan Park', shape_type='neighbourhood', parent_id='85931779'),\n",
       " Shapefile(id=420781757, name='Deanwood', shape_type='neighbourhood', parent_id='85931779'),\n",
       " Shapefile(id=420781759, name='Burrville', shape_type='neighbourhood', parent_id='85931779'),\n",
       " Shapefile(id=420781763, name='Grant Park', shape_type='neighbourhood', parent_id='85931779'),\n",
       " Shapefile(id=420781765, name='Eastland Gardens', shape_type='neighbourhood', parent_id='85931779'),\n",
       " Shapefile(id=420781767, name='Central Northeast', shape_type='neighbourhood', parent_id='85931779'),\n",
       " Shapefile(id=420781785, name='Fort Davis Park', shape_type='neighbourhood', parent_id='85931779'),\n",
       " Shapefile(id=420781787, name='Fairfax Village', shape_type='neighbourhood', parent_id='85931779'),\n",
       " Shapefile(id=420781805, name='Naylor Gardens', shape_type='neighbourhood', parent_id='85931779'),\n",
       " Shapefile(id=1108723529, name='Carver Langston', shape_type='neighbourhood', parent_id='85931779'),\n",
       " Shapefile(id=1108723813, name='Northwest One', shape_type='neighbourhood', parent_id='85931779'),\n",
       " Shapefile(id=1108723841, name='American University', shape_type='neighbourhood', parent_id='85931779'),\n",
       " Shapefile(id=1108723843, name='Anacostia Boat Clubs', shape_type='neighbourhood', parent_id='85931779'),\n",
       " Shapefile(id=1108723845, name='Anacostia Park', shape_type='neighbourhood', parent_id='85931779'),\n",
       " Shapefile(id=1108723847, name='Anacostia River', shape_type='neighbourhood', parent_id='85931779'),\n",
       " Shapefile(id=1108723849, name='Anacostia River Islands', shape_type='neighbourhood', parent_id='85931779'),\n",
       " Shapefile(id=1108723853, name='Barnaby Woods', shape_type='neighbourhood', parent_id='85931779'),\n",
       " Shapefile(id=1108723855, name='Barnard Hill Park', shape_type='neighbourhood', parent_id='85931779'),\n",
       " Shapefile(id=1108723857, name='Barney Circle', shape_type='neighbourhood', parent_id='85931779'),\n",
       " Shapefile(id=1108723859, name='Battery Kemble Park', shape_type='neighbourhood', parent_id='85931779'),\n",
       " Shapefile(id=1108723861, name='Blue Plains', shape_type='neighbourhood', parent_id='85931779'),\n",
       " Shapefile(id=1108723863, name='Brentwood Railyard', shape_type='neighbourhood', parent_id='85931779'),\n",
       " Shapefile(id=1108723865, name='C&O Canal Park', shape_type='neighbourhood', parent_id='85931779'),\n",
       " Shapefile(id=1108723867, name='Capital City Market', shape_type='neighbourhood', parent_id='85931779'),\n",
       " Shapefile(id=1108723871, name='The Catholic University of America', shape_type='neighbourhood', parent_id='85931779'),\n",
       " Shapefile(id=1108723873, name='Chevy Chase', shape_type='neighbourhood', parent_id='85931779'),\n",
       " Shapefile(id=1108723875, name='Civic Betterment', shape_type='neighbourhood', parent_id='85931779'),\n",
       " Shapefile(id=1108723877, name='Congressional Cemetery', shape_type='neighbourhood', parent_id='85931779'),\n",
       " Shapefile(id=1108723879, name='D.C. General Hospital and Prison', shape_type='neighbourhood', parent_id='85931779'),\n",
       " Shapefile(id=1108723881, name='Dalecarlia Reservoir', shape_type='neighbourhood', parent_id='85931779'),\n",
       " Shapefile(id=1108723883, name='DC Village', shape_type='neighbourhood', parent_id='85931779'),\n",
       " Shapefile(id=1108723885, name='Department of Homeland Security', shape_type='neighbourhood', parent_id='85931779'),\n",
       " Shapefile(id=1108723889, name='Dumbarton Oaks Park', shape_type='neighbourhood', parent_id='85931779'),\n",
       " Shapefile(id=1108723891, name='Dupont Park', shape_type='neighbourhood', parent_id='85931779'),\n",
       " Shapefile(id=1108723893, name='Federal Triangle', shape_type='neighbourhood', parent_id='85931779'),\n",
       " Shapefile(id=1108723895, name='Fort Chaplin Park', shape_type='neighbourhood', parent_id='85931779'),\n",
       " Shapefile(id=1108723897, name='Fort Circle Parkland', shape_type='neighbourhood', parent_id='85931779'),\n",
       " Shapefile(id=1108723899, name='Fort Davis', shape_type='neighbourhood', parent_id='85931779'),\n",
       " Shapefile(id=1108723901, name='Fort Dupont Park', shape_type='neighbourhood', parent_id='85931779'),\n",
       " Shapefile(id=1108723907, name='Fort Mahan Park', shape_type='neighbourhood', parent_id='85931779'),\n",
       " Shapefile(id=1108723909, name='Fort Slocum Park', shape_type='neighbourhood', parent_id='85931779'),\n",
       " Shapefile(id=1108723913, name='Fort Stanton Park', shape_type='neighbourhood', parent_id='85931779'),\n",
       " Shapefile(id=1108723915, name='Fort Totten Park', shape_type='neighbourhood', parent_id='85931779'),\n",
       " Shapefile(id=1108723917, name='Friendship Heights', shape_type='neighbourhood', parent_id='85931779'),\n",
       " Shapefile(id=1108723919, name='Gallaudet University', shape_type='neighbourhood', parent_id='85931779'),\n",
       " Shapefile(id=1108723921, name=\"Glenwood/St. Mary's Cemeteries\", shape_type='neighbourhood', parent_id='85931779'),\n",
       " Shapefile(id=1108723925, name='Glover-Archbold Parkway', shape_type='neighbourhood', parent_id='85931779'),\n",
       " Shapefile(id=1108723927, name='Good Hope', shape_type='neighbourhood', parent_id='85931779'),\n",
       " Shapefile(id=1108723929, name=\"Gov't Fleet Parking\", shape_type='neighbourhood', parent_id='85931779'),\n",
       " Shapefile(id=1108723931, name='George Washington University - Mount Vernon', shape_type='neighbourhood', parent_id='85931779'),\n",
       " Shapefile(id=1108723933, name='Hains Point', shape_type='neighbourhood', parent_id='85931779'),\n",
       " Shapefile(id=1108723935, name='Hawthorne', shape_type='neighbourhood', parent_id='85931779'),\n",
       " Shapefile(id=1108723937, name='Hillcrest', shape_type='neighbourhood', parent_id='85931779'),\n",
       " Shapefile(id=1108723939, name='Howard University', shape_type='neighbourhood', parent_id='85931779'),\n",
       " Shapefile(id=1108723943, name='Ivy City Railyard', shape_type='neighbourhood', parent_id='85931779'),\n",
       " Shapefile(id=1108723945, name='Joint Base Anacostia Bolling Naval Research Laboratory', shape_type='neighbourhood', parent_id='85931779'),\n",
       " Shapefile(id=1108723947, name='Kenilworth Aquatic Gardens', shape_type='neighbourhood', parent_id='85931779'),\n",
       " Shapefile(id=1108723949, name='Lamond Riggs', shape_type='neighbourhood', parent_id='85931779'),\n",
       " Shapefile(id=1108723951, name='Langston Golf Course', shape_type='neighbourhood', parent_id='85931779'),\n",
       " Shapefile(id=1108723953, name='McLean Gardens', shape_type='neighbourhood', parent_id='85931779'),\n",
       " Shapefile(id=1108723955, name='McMillan Reservoir', shape_type='neighbourhood', parent_id='85931779'),\n",
       " Shapefile(id=1108723957, name='McMillan Sand Filtration Site', shape_type='neighbourhood', parent_id='85931779'),\n",
       " Shapefile(id=1108723961, name='Melvin C. Hazen Park', shape_type='neighbourhood', parent_id='85931779'),\n",
       " Shapefile(id=1108723963, name='Mt. Olivet Cemetery', shape_type='neighbourhood', parent_id='85931779'),\n",
       " Shapefile(id=1108723965, name='National Arboretum', shape_type='neighbourhood', parent_id='85931779'),\n",
       " Shapefile(id=1108723967, name='National Cathedral Grounds', shape_type='neighbourhood', parent_id='85931779'),\n",
       " Shapefile(id=1108723969, name='National Zoological Park', shape_type='neighbourhood', parent_id='85931779'),\n",
       " Shapefile(id=1108723971, name='Normanstone Parkway', shape_type='neighbourhood', parent_id='85931779'),\n",
       " Shapefile(id=1108723973, name='Northeast Boundary', shape_type='neighbourhood', parent_id='85931779'),\n",
       " Shapefile(id=1108723979, name='Old Soldiers Home', shape_type='neighbourhood', parent_id='85931779'),\n",
       " Shapefile(id=1108723981, name='Oxon Run Parkway', shape_type='neighbourhood', parent_id='85931779'),\n",
       " Shapefile(id=1108723983, name='Parkside', shape_type='neighbourhood', parent_id='85931779'),\n",
       " Shapefile(id=1108723985, name='Pepco Benning Road Plant', shape_type='neighbourhood', parent_id='85931779'),\n",
       " Shapefile(id=1108723987, name='Pinehurst Parkway', shape_type='neighbourhood', parent_id='85931779'),\n",
       " Shapefile(id=1108723989, name='Pope Branch Park', shape_type='neighbourhood', parent_id='85931779'),\n",
       " Shapefile(id=1108723991, name='Poplar Point', shape_type='neighbourhood', parent_id='85931779'),\n",
       " Shapefile(id=1108723993, name='Queens Chapel', shape_type='neighbourhood', parent_id='85931779'),\n",
       " Shapefile(id=1108723997, name='Riggs Park', shape_type='neighbourhood', parent_id='85931779'),\n",
       " Shapefile(id=1108723999, name='Rock Creek and Potomac Parkway', shape_type='neighbourhood', parent_id='85931779'),\n",
       " Shapefile(id=1108724001, name='Rock Creek Cemetery', shape_type='neighbourhood', parent_id='85931779'),\n",
       " Shapefile(id=1108724003, name='Rock Creek Gardens', shape_type='neighbourhood', parent_id='85931779'),\n",
       " Shapefile(id=1108724005, name='Rock Creek Park (north)', shape_type='neighbourhood', parent_id='85931779'),\n",
       " Shapefile(id=1108724007, name='Rock Creek Park (south)', shape_type='neighbourhood', parent_id='85931779'),\n",
       " Shapefile(id=1108724009, name='Shepherd Parkway', shape_type='neighbourhood', parent_id='85931779'),\n",
       " Shapefile(id=1108724011, name='Sibley Hospital', shape_type='neighbourhood', parent_id='85931779'),\n",
       " Shapefile(id=1108724015, name='Soapstone Valley Park', shape_type='neighbourhood', parent_id='85931779'),\n",
       " Shapefile(id=1108724017, name='Stadium/Armory Area', shape_type='neighbourhood', parent_id='85931779'),\n",
       " Shapefile(id=1108724019, name=\"Striver's Section\", shape_type='neighbourhood', parent_id='85931779'),\n",
       " Shapefile(id=1108724021, name='Takoma', shape_type='neighbourhood', parent_id='85931779'),\n",
       " Shapefile(id=1108724023, name='Wakefield', shape_type='neighbourhood', parent_id='85931779'),\n",
       " Shapefile(id=1108724025, name='Walter Reed Medical Center', shape_type='neighbourhood', parent_id='85931779'),\n",
       " Shapefile(id=1108724027, name='Washington Hebrew Congregation Cemetery', shape_type='neighbourhood', parent_id='85931779'),\n",
       " Shapefile(id=1108724029, name='Washington Highlands', shape_type='neighbourhood', parent_id='85931779'),\n",
       " Shapefile(id=1108724033, name='Washington Hospital Center', shape_type='neighbourhood', parent_id='85931779'),\n",
       " Shapefile(id=1108724035, name='West Potomac Park', shape_type='neighbourhood', parent_id='85931779'),\n",
       " Shapefile(id=1108724037, name='Whitehaven Parkway', shape_type='neighbourhood', parent_id='85931779'),\n",
       " Shapefile(id=1108724039, name='Woodlawn/Payne Cemetery', shape_type='neighbourhood', parent_id='85931779'),\n",
       " Shapefile(id=1108724043, name='East Potomac Park', shape_type='neighbourhood', parent_id='85931779'),\n",
       " Shapefile(id=1108724045, name='Ellipse', shape_type='neighbourhood', parent_id='85931779'),\n",
       " Shapefile(id=1108724047, name='Lafayette Square', shape_type='neighbourhood', parent_id='85931779'),\n",
       " Shapefile(id=1108724051, name='National Mall', shape_type='neighbourhood', parent_id='85931779'),\n",
       " Shapefile(id=1108724053, name='The Capitol Grounds', shape_type='neighbourhood', parent_id='85931779'),\n",
       " Shapefile(id=1108724055, name='Tidal Basin', shape_type='neighbourhood', parent_id='85931779'),\n",
       " Shapefile(id=1108724057, name='Washington Monument Grounds', shape_type='neighbourhood', parent_id='85931779'),\n",
       " Shapefile(id=1108724059, name='White House Grounds', shape_type='neighbourhood', parent_id='85931779'),\n",
       " Shapefile(id=1108726801, name='Theodore Roosevelt Island', shape_type='neighbourhood', parent_id='85931779'),\n",
       " Shapefile(id=1108726805, name='George Washington Memorial Parkway', shape_type='neighbourhood', parent_id='85931779'),\n",
       " Shapefile(id=1108726809, name='Washington Channel', shape_type='neighbourhood', parent_id='85931779'),\n",
       " Shapefile(id=1108726811, name='Potomac River', shape_type='neighbourhood', parent_id='85931779')]"
      ]
     },
     "execution_count": 16,
     "metadata": {},
     "output_type": "execute_result"
    }
   ],
   "execution_count": 16
  },
  {
   "metadata": {},
   "cell_type": "code",
   "source": [
    "with app.app_context():\n",
    "    stmt = select(Shapefile).filter(Shapefile.parent_id == market)\n",
    "    neighbourhoods = db.session.execute(stmt).scalars().all()\n",
    "neighbourhoods"
   ],
   "id": "6c2980d96383d51c",
   "outputs": [],
   "execution_count": null
  },
  {
   "metadata": {},
   "cell_type": "code",
   "source": "",
   "id": "5cb4ab68659b1db9",
   "outputs": [],
   "execution_count": null
  },
  {
   "metadata": {},
   "cell_type": "code",
   "source": "",
   "id": "5d588d259dff0e89",
   "outputs": [],
   "execution_count": null
  }
 ],
 "metadata": {
  "kernelspec": {
   "display_name": "Python 3",
   "language": "python",
   "name": "python3"
  },
  "language_info": {
   "codemirror_mode": {
    "name": "ipython",
    "version": 2
   },
   "file_extension": ".py",
   "mimetype": "text/x-python",
   "name": "python",
   "nbconvert_exporter": "python",
   "pygments_lexer": "ipython2",
   "version": "2.7.6"
  }
 },
 "nbformat": 4,
 "nbformat_minor": 5
}
