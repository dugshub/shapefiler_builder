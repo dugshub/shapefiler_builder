{
 "cells": [
  {
   "cell_type": "code",
   "id": "initial_id",
   "metadata": {
    "collapsed": true,
    "ExecuteTime": {
     "end_time": "2024-07-17T23:50:21.075640Z",
     "start_time": "2024-07-17T23:50:18.956143Z"
    }
   },
   "source": "import shapefile",
   "outputs": [
    {
     "ename": "TypeError",
     "evalue": "__init__() got an unexpected keyword argument 'geom'",
     "output_type": "error",
     "traceback": [
      "\u001B[0;31m---------------------------------------------------------------------------\u001B[0m",
      "\u001B[0;31mTypeError\u001B[0m                                 Traceback (most recent call last)",
      "Cell \u001B[0;32mIn[1], line 1\u001B[0m\n\u001B[0;32m----> 1\u001B[0m \u001B[38;5;28;01mimport\u001B[39;00m \u001B[38;5;21;01mshapefile\u001B[39;00m\n",
      "File \u001B[0;32m~/PycharmProjects/shapefiler_builder/shapefile.py:31\u001B[0m\n\u001B[1;32m     27\u001B[0m     \u001B[38;5;66;03m##add filter to split out shapefiles by type\u001B[39;00m\n\u001B[1;32m     28\u001B[0m     \u001B[38;5;28;01mreturn\u001B[39;00m shapefiles\n\u001B[0;32m---> 31\u001B[0m \u001B[38;5;28;01mdef\u001B[39;00m \u001B[38;5;21mget_shapefiles\u001B[39m(shapefile_objs\u001B[38;5;241m=\u001B[39m\u001B[43m_get_related_shapefiles\u001B[49m\u001B[43m(\u001B[49m\u001B[43m)\u001B[49m):\n\u001B[1;32m     32\u001B[0m     shapefile_objs \u001B[38;5;241m=\u001B[39m [shapefile_objs[\u001B[38;5;241m0\u001B[39m],shapefile_objs[\u001B[38;5;241m1\u001B[39m]]\n\u001B[1;32m     33\u001B[0m     shape_features \u001B[38;5;241m=\u001B[39m features_schema\u001B[38;5;241m.\u001B[39mdump(shapefile_objs)\n",
      "File \u001B[0;32m~/PycharmProjects/shapefiler_builder/shapefile.py:25\u001B[0m, in \u001B[0;36m_get_related_shapefiles\u001B[0;34m()\u001B[0m\n\u001B[1;32m     23\u001B[0m \u001B[38;5;28;01mdef\u001B[39;00m \u001B[38;5;21m_get_related_shapefiles\u001B[39m():\n\u001B[1;32m     24\u001B[0m     ids \u001B[38;5;241m=\u001B[39m _get_related_ids()\n\u001B[0;32m---> 25\u001B[0m     shapefiles \u001B[38;5;241m=\u001B[39m [\u001B[43mShapefileBuilder\u001B[49m\u001B[43m(\u001B[49m\u001B[43mkey\u001B[49m\u001B[43m)\u001B[49m\u001B[38;5;241;43m.\u001B[39;49m\u001B[43mcreateMaplayerObject\u001B[49m\u001B[43m(\u001B[49m\u001B[43m)\u001B[49m \u001B[38;5;28;01mfor\u001B[39;00m key, val \u001B[38;5;129;01min\u001B[39;00m ids\u001B[38;5;241m.\u001B[39mitems()]\n\u001B[1;32m     27\u001B[0m     \u001B[38;5;66;03m##add filter to split out shapefiles by type\u001B[39;00m\n\u001B[1;32m     28\u001B[0m     \u001B[38;5;28;01mreturn\u001B[39;00m shapefiles\n",
      "File \u001B[0;32m~/PycharmProjects/shapefiler_builder/models.py:28\u001B[0m, in \u001B[0;36mShapefileBuilder.createMaplayerObject\u001B[0;34m(self)\u001B[0m\n\u001B[1;32m     25\u001B[0m parent_id \u001B[38;5;241m=\u001B[39m wof_json[\u001B[38;5;124m'\u001B[39m\u001B[38;5;124mproperties\u001B[39m\u001B[38;5;124m'\u001B[39m][\u001B[38;5;124m'\u001B[39m\u001B[38;5;124mwof:parent_id\u001B[39m\u001B[38;5;124m'\u001B[39m]\n\u001B[1;32m     26\u001B[0m shape_type \u001B[38;5;241m=\u001B[39m wof_json[\u001B[38;5;124m'\u001B[39m\u001B[38;5;124mproperties\u001B[39m\u001B[38;5;124m'\u001B[39m][\u001B[38;5;124m'\u001B[39m\u001B[38;5;124mwof:placetype\u001B[39m\u001B[38;5;124m'\u001B[39m]\n\u001B[0;32m---> 28\u001B[0m \u001B[38;5;28;01mreturn\u001B[39;00m \u001B[38;5;28;43mself\u001B[39;49m\u001B[38;5;241;43m.\u001B[39;49m\u001B[43mcreateShapefile\u001B[49m\u001B[43m(\u001B[49m\n\u001B[1;32m     29\u001B[0m \u001B[43m    \u001B[49m\u001B[43mgeometry\u001B[49m\u001B[38;5;241;43m=\u001B[39;49m\u001B[43mgeometry\u001B[49m\u001B[43m,\u001B[49m\n\u001B[1;32m     30\u001B[0m \u001B[43m    \u001B[49m\u001B[43mbounding_box\u001B[49m\u001B[38;5;241;43m=\u001B[39;49m\u001B[43mbounding_box\u001B[49m\u001B[43m,\u001B[49m\n\u001B[1;32m     31\u001B[0m \u001B[43m    \u001B[49m\u001B[43mname\u001B[49m\u001B[38;5;241;43m=\u001B[39;49m\u001B[43mname\u001B[49m\u001B[43m,\u001B[49m\n\u001B[1;32m     32\u001B[0m \u001B[43m    \u001B[49m\u001B[43mhierarchy\u001B[49m\u001B[38;5;241;43m=\u001B[39;49m\u001B[43mhierarchy\u001B[49m\u001B[43m,\u001B[49m\n\u001B[1;32m     33\u001B[0m \u001B[43m    \u001B[49m\u001B[43mparent_id\u001B[49m\u001B[38;5;241;43m=\u001B[39;49m\u001B[43mparent_id\u001B[49m\n\u001B[1;32m     34\u001B[0m \u001B[43m\u001B[49m\u001B[43m)\u001B[49m\n",
      "File \u001B[0;32m~/PycharmProjects/shapefiler_builder/models.py:37\u001B[0m, in \u001B[0;36mShapefileBuilder.createShapefile\u001B[0;34m(self, geometry, bounding_box, name, hierarchy, parent_id)\u001B[0m\n\u001B[1;32m     36\u001B[0m \u001B[38;5;28;01mdef\u001B[39;00m \u001B[38;5;21mcreateShapefile\u001B[39m(\u001B[38;5;28mself\u001B[39m, geometry, bounding_box, name, hierarchy, parent_id):\n\u001B[0;32m---> 37\u001B[0m     \u001B[38;5;28;01mreturn\u001B[39;00m \u001B[43mShapefile\u001B[49m\u001B[43m(\u001B[49m\n\u001B[1;32m     38\u001B[0m \u001B[43m        \u001B[49m\u001B[38;5;28;43mid\u001B[39;49m\u001B[38;5;241;43m=\u001B[39;49m\u001B[38;5;28;43mself\u001B[39;49m\u001B[38;5;241;43m.\u001B[39;49m\u001B[43mid\u001B[49m\u001B[43m,\u001B[49m\n\u001B[1;32m     39\u001B[0m \u001B[43m        \u001B[49m\u001B[43mname\u001B[49m\u001B[38;5;241;43m=\u001B[39;49m\u001B[43mname\u001B[49m\u001B[43m,\u001B[49m\n\u001B[1;32m     40\u001B[0m \u001B[43m        \u001B[49m\u001B[43mbounding_box\u001B[49m\u001B[38;5;241;43m=\u001B[39;49m\u001B[43mbounding_box\u001B[49m\u001B[43m,\u001B[49m\n\u001B[1;32m     41\u001B[0m \u001B[43m        \u001B[49m\u001B[43mgeom\u001B[49m\u001B[38;5;241;43m=\u001B[39;49m\u001B[43mgeometry\u001B[49m\u001B[43m,\u001B[49m\n\u001B[1;32m     42\u001B[0m \u001B[43m        \u001B[49m\u001B[43mhierarchy\u001B[49m\u001B[38;5;241;43m=\u001B[39;49m\u001B[43mhierarchy\u001B[49m\n\u001B[1;32m     43\u001B[0m \u001B[43m    \u001B[49m\u001B[43m)\u001B[49m\n",
      "\u001B[0;31mTypeError\u001B[0m: __init__() got an unexpected keyword argument 'geom'"
     ]
    }
   ],
   "execution_count": 1
  },
  {
   "metadata": {},
   "cell_type": "code",
   "outputs": [],
   "execution_count": null,
   "source": "",
   "id": "71cf73c1568e992"
  }
 ],
 "metadata": {
  "kernelspec": {
   "display_name": "Python 3",
   "language": "python",
   "name": "python3"
  },
  "language_info": {
   "codemirror_mode": {
    "name": "ipython",
    "version": 2
   },
   "file_extension": ".py",
   "mimetype": "text/x-python",
   "name": "python",
   "nbconvert_exporter": "python",
   "pygments_lexer": "ipython2",
   "version": "2.7.6"
  }
 },
 "nbformat": 4,
 "nbformat_minor": 5
}
